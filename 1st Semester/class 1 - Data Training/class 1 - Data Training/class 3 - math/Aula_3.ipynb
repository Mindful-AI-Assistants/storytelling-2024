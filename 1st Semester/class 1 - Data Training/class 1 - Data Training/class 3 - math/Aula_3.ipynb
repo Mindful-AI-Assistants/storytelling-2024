{
  "nbformat": 4,
  "nbformat_minor": 0,
  "metadata": {
    "colab": {
      "provenance": []
    },
    "kernelspec": {
      "name": "python3",
      "display_name": "Python 3"
    },
    "language_info": {
      "name": "python"
    }
  },
  "cells": [
    {
      "cell_type": "markdown",
      "source": [
        "### Tutorial de Funções em python 🤓\n",
        "🤖 *Professor Rooney Coelho*"
      ],
      "metadata": {
        "id": "OQrpGpC3U2XG"
      }
    },
    {
      "cell_type": "code",
      "source": [
        "print('Olá, o meu nome é Rooney')"
      ],
      "metadata": {
        "colab": {
          "base_uri": "https://localhost:8080/"
        },
        "id": "FXLKjURwUs5c",
        "outputId": "11d9b5e2-7e82-4c2f-f17d-da5115ff7f24"
      },
      "execution_count": 55,
      "outputs": [
        {
          "output_type": "stream",
          "name": "stdout",
          "text": [
            "Olá, o meu nome é Rooney\n"
          ]
        }
      ]
    },
    {
      "cell_type": "code",
      "execution_count": 56,
      "metadata": {
        "id": "cujmpS83UIRL"
      },
      "outputs": [],
      "source": [
        "def func(nome):\n",
        "  print(f'Seja bem-vindo(a) {nome}')"
      ]
    },
    {
      "cell_type": "code",
      "source": [
        "func('Wilson')"
      ],
      "metadata": {
        "colab": {
          "base_uri": "https://localhost:8080/"
        },
        "id": "IgDzpGopVPRz",
        "outputId": "86a8fa86-5836-4763-ed04-bc7738b7f1d4"
      },
      "execution_count": 57,
      "outputs": [
        {
          "output_type": "stream",
          "name": "stdout",
          "text": [
            "Seja bem-vindo(a) Wilson\n"
          ]
        }
      ]
    },
    {
      "cell_type": "code",
      "source": [
        "func('Flávia')"
      ],
      "metadata": {
        "colab": {
          "base_uri": "https://localhost:8080/"
        },
        "id": "j79b8gv-VUFC",
        "outputId": "09b1edfc-b793-4d84-f4eb-8fa28010d833"
      },
      "execution_count": 58,
      "outputs": [
        {
          "output_type": "stream",
          "name": "stdout",
          "text": [
            "Seja bem-vindo(a) Flávia\n"
          ]
        }
      ]
    },
    {
      "cell_type": "code",
      "source": [
        "def func2(nome1, nome2):\n",
        "  '''\n",
        "  Código da função func2. Esta função recebe duas strings de nome como entrada\n",
        "  e imprime na tela. A função não retorna nada.\n",
        "\n",
        "  Programador Rooney Coelho, 18 de Março de 2024\n",
        "  '''\n",
        "  print(f'Sejam bem-vindo(a)s {nome1} e {nome2}') # Entradas da função"
      ],
      "metadata": {
        "id": "KPpqq9QXWD2V"
      },
      "execution_count": 59,
      "outputs": []
    },
    {
      "cell_type": "code",
      "source": [
        "help(func2)"
      ],
      "metadata": {
        "colab": {
          "base_uri": "https://localhost:8080/"
        },
        "id": "NDXLHdftYiaa",
        "outputId": "478ffa7d-c8ed-438e-8bdd-e9b7b75b8e7a"
      },
      "execution_count": 60,
      "outputs": [
        {
          "output_type": "stream",
          "name": "stdout",
          "text": [
            "Help on function func2 in module __main__:\n",
            "\n",
            "func2(nome1, nome2)\n",
            "    Código da função func2. Esta função recebe duas strings de nome como entrada\n",
            "    e imprime na tela. A função não retorna nada.\n",
            "    \n",
            "    Programador Rooney Coelho, 18 de Março de 2024\n",
            "\n"
          ]
        }
      ]
    },
    {
      "cell_type": "code",
      "source": [
        "func2('Wilson', 'Flávia')"
      ],
      "metadata": {
        "colab": {
          "base_uri": "https://localhost:8080/"
        },
        "id": "oATGmrroWNI1",
        "outputId": "4512de81-e514-4c2c-fa9a-2e641c0c97b4"
      },
      "execution_count": 61,
      "outputs": [
        {
          "output_type": "stream",
          "name": "stdout",
          "text": [
            "Sejam bem-vindo(a)s Wilson e Flávia\n"
          ]
        }
      ]
    },
    {
      "cell_type": "markdown",
      "source": [
        "### Funções matemáticas"
      ],
      "metadata": {
        "id": "HQD1OudWXyxg"
      }
    },
    {
      "cell_type": "code",
      "source": [
        "def polinomio(x):\n",
        "  a = 2\n",
        "  b = 3\n",
        "  c = 4\n",
        "  return a*x**2 + b*x + c"
      ],
      "metadata": {
        "id": "nAwvfDkUZh5g"
      },
      "execution_count": 62,
      "outputs": []
    },
    {
      "cell_type": "code",
      "source": [
        "y = polinomio(0)\n",
        "print(y)"
      ],
      "metadata": {
        "colab": {
          "base_uri": "https://localhost:8080/"
        },
        "id": "bHCWFBrEZx1X",
        "outputId": "3476a9d4-f01b-4113-c944-47b4445e1bba"
      },
      "execution_count": 63,
      "outputs": [
        {
          "output_type": "stream",
          "name": "stdout",
          "text": [
            "4\n"
          ]
        }
      ]
    },
    {
      "cell_type": "code",
      "source": [
        "polinomio(1)"
      ],
      "metadata": {
        "colab": {
          "base_uri": "https://localhost:8080/"
        },
        "id": "smKWW1M_a2sv",
        "outputId": "93874a9a-ff32-4eb1-ca1c-afdb0664a9cb"
      },
      "execution_count": 64,
      "outputs": [
        {
          "output_type": "execute_result",
          "data": {
            "text/plain": [
              "9"
            ]
          },
          "metadata": {},
          "execution_count": 64
        }
      ]
    },
    {
      "cell_type": "code",
      "source": [
        "# Como receber algo de input do usuário\n",
        "x = input('Digite x: ')\n",
        "print(f'Você digitou {x}')"
      ],
      "metadata": {
        "colab": {
          "base_uri": "https://localhost:8080/"
        },
        "id": "965c6AidbA6z",
        "outputId": "08bade43-97f1-49ac-f2f8-e81f779bd189"
      },
      "execution_count": 65,
      "outputs": [
        {
          "output_type": "stream",
          "name": "stdout",
          "text": [
            "Digite x: 10\n",
            "Você digitou 10\n"
          ]
        }
      ]
    },
    {
      "cell_type": "code",
      "source": [
        "x = [-3,-2,-1,0,1,2]\n",
        "\n",
        "y = []\n",
        "for val in x:\n",
        "  y.append(polinomio(val))\n",
        "print(y)"
      ],
      "metadata": {
        "colab": {
          "base_uri": "https://localhost:8080/"
        },
        "id": "iXvTN1OXb4FF",
        "outputId": "456a216c-e97d-4693-bb88-39b15e2e2528"
      },
      "execution_count": 66,
      "outputs": [
        {
          "output_type": "stream",
          "name": "stdout",
          "text": [
            "[13, 6, 3, 4, 9, 18]\n"
          ]
        }
      ]
    },
    {
      "cell_type": "code",
      "source": [
        "import matplotlib.pyplot as plt\n",
        "\n",
        "plt.plot(x,y)\n",
        "plt.xlabel('Eixo x')\n",
        "plt.ylabel('Eixo y')\n",
        "plt.title('Meu gráfico')\n",
        "#plt.legend(['Polinômio'])\n",
        "plt.legend([r'$f(x) = 2x^2+3x+4$']) # Usando render LaTeX\n",
        "plt.grid()\n",
        "plt.show()\n"
      ],
      "metadata": {
        "colab": {
          "base_uri": "https://localhost:8080/",
          "height": 472
        },
        "id": "JXA00FRugKro",
        "outputId": "ee83a89d-75f4-4c05-daef-4d0b1723dea7"
      },
      "execution_count": 67,
      "outputs": [
        {
          "output_type": "display_data",
          "data": {
            "text/plain": [
              "<Figure size 640x480 with 1 Axes>"
            ],
            "image/png": "[encoded data removed]"
          },
          "metadata": {}
        }
      ]
    },
    {
      "cell_type": "markdown",
      "source": [
        "---"
      ],
      "metadata": {
        "id": "TJo_h2COjWQt"
      }
    },
    {
      "cell_type": "code",
      "source": [
        "import numpy as np\n",
        "import matplotlib.pyplot as plt\n",
        "\n",
        "# Função externa para amostragem (mais usual)\n",
        "x = np.linspace(-3,2,100)\n",
        "\n",
        "y = []\n",
        "for val in x:\n",
        "  y.append(polinomio(val))\n",
        "\n",
        "\n",
        "plt.plot(x,y)\n",
        "plt.xlabel('Eixo x')\n",
        "plt.ylabel('Eixo y')\n",
        "plt.title('Meu gráfico')\n",
        "plt.legend([r'$f(x) = 2x^2+3x+4$']) # Usando render LaTeX\n",
        "plt.grid()\n",
        "plt.show()"
      ],
      "metadata": {
        "colab": {
          "base_uri": "https://localhost:8080/",
          "height": 472
        },
        "id": "C8-6_JAKjZPl",
        "outputId": "ee51f77f-b410-4d65-81fb-52ddf115f239"
      },
      "execution_count": 68,
      "outputs": [
        {
          "output_type": "display_data",
          "data": {
            "text/plain": [
              "<Figure size 640x480 with 1 Axes>"
            ],
            "image/png": "[encoded data removed]"
          },
          "metadata": {}
        }
      ]
    },
    {
      "cell_type": "markdown",
      "source": [
        "---"
      ],
      "metadata": {
        "id": "maTfAKGNmOcM"
      }
    },
    {
      "cell_type": "code",
      "source": [
        "def f(x):\n",
        "  a = 2\n",
        "  b = 3\n",
        "  c = 4\n",
        "  return a*x**2 + b*x + c\n",
        "\n",
        "def g(x):\n",
        "  return x**2"
      ],
      "metadata": {
        "id": "41YKB4OrmPzz"
      },
      "execution_count": 54,
      "outputs": []
    },
    {
      "cell_type": "code",
      "source": [
        "f(3)"
      ],
      "metadata": {
        "colab": {
          "base_uri": "https://localhost:8080/"
        },
        "id": "OBhOw3jTmcZp",
        "outputId": "c5ba049f-146f-4741-ad3a-d722f08b760c"
      },
      "execution_count": 69,
      "outputs": [
        {
          "output_type": "execute_result",
          "data": {
            "text/plain": [
              "31"
            ]
          },
          "metadata": {},
          "execution_count": 69
        }
      ]
    },
    {
      "cell_type": "code",
      "source": [
        "g(3)"
      ],
      "metadata": {
        "colab": {
          "base_uri": "https://localhost:8080/"
        },
        "id": "uqDYLC2HmzZd",
        "outputId": "efd88f36-6792-4219-f533-cd8d37873ab0"
      },
      "execution_count": 70,
      "outputs": [
        {
          "output_type": "execute_result",
          "data": {
            "text/plain": [
              "9"
            ]
          },
          "metadata": {},
          "execution_count": 70
        }
      ]
    },
    {
      "cell_type": "code",
      "source": [
        "f(g(3))"
      ],
      "metadata": {
        "colab": {
          "base_uri": "https://localhost:8080/"
        },
        "id": "OTO9ydu1m1Ks",
        "outputId": "95c1ea7e-fb07-486d-8402-97253d4bbfde"
      },
      "execution_count": 71,
      "outputs": [
        {
          "output_type": "execute_result",
          "data": {
            "text/plain": [
              "193"
            ]
          },
          "metadata": {},
          "execution_count": 71
        }
      ]
    },
    {
      "cell_type": "code",
      "source": [
        "import numpy as np\n",
        "import matplotlib.pyplot as plt\n",
        "\n",
        "# Função externa para amostragem (mais usual)\n",
        "x = np.linspace(-3,2,100)\n",
        "\n",
        "y = []\n",
        "for val in x:\n",
        "  y.append( f(g(val)) )\n",
        "\n",
        "plt.plot(x,y)\n",
        "plt.xlabel('Eixo x')\n",
        "plt.ylabel('Eixo y')\n",
        "plt.title('Meu gráfico')\n",
        "plt.legend([r'$f(g(x))$']) # Usando render LaTeX\n",
        "plt.grid()\n",
        "plt.show()"
      ],
      "metadata": {
        "colab": {
          "base_uri": "https://localhost:8080/",
          "height": 472
        },
        "id": "_uMarCMenRjw",
        "outputId": "42768c69-8624-470a-ffba-4be7db8ec540"
      },
      "execution_count": 72,
      "outputs": [
        {
          "output_type": "display_data",
          "data": {
            "text/plain": [
              "<Figure size 640x480 with 1 Axes>"
            ],
            "image/png": "[encoded data removed]"
          },
          "metadata": {}
        }
      ]
    },
    {
      "cell_type": "markdown",
      "source": [
        "### Introdução ao Sympy"
      ],
      "metadata": {
        "id": "lb4LJe1c3K5Q"
      }
    },
    {
      "cell_type": "code",
      "source": [
        "!pip install sympy"
      ],
      "metadata": {
        "colab": {
          "base_uri": "https://localhost:8080/"
        },
        "id": "BxLw-ecr3Rql",
        "outputId": "d0b31ede-10a4-4d85-8cd1-51d994301073"
      },
      "execution_count": 74,
      "outputs": [
        {
          "output_type": "stream",
          "name": "stdout",
          "text": [
            "Requirement already satisfied: sympy in /usr/local/lib/python3.10/dist-packages (1.12)\n",
            "Requirement already satisfied: mpmath>=0.19 in /usr/local/lib/python3.10/dist-packages (from sympy) (1.3.0)\n"
          ]
        }
      ]
    },
    {
      "cell_type": "code",
      "source": [
        "import sympy\n",
        "\n",
        "# Definição de uma variável simbólica\n",
        "x = sympy.symbols('x')\n",
        "\n",
        "# Definição de uma função\n",
        "f = sympy.Function('f')(x)"
      ],
      "metadata": {
        "id": "LHjDVljI4VfK"
      },
      "execution_count": 87,
      "outputs": []
    },
    {
      "cell_type": "code",
      "source": [
        "# Definição da função simbólica\n",
        "f = 2*x**2 + 3*x + 4"
      ],
      "metadata": {
        "id": "6eLYD_aI6VbX"
      },
      "execution_count": 88,
      "outputs": []
    },
    {
      "cell_type": "code",
      "source": [
        "# imprimindo o valor da função\n",
        "f"
      ],
      "metadata": {
        "colab": {
          "base_uri": "https://localhost:8080/",
          "height": 39
        },
        "id": "F5TvTqwV6c-2",
        "outputId": "e0c05e1a-6112-4558-9bcd-0eb58ded35ff"
      },
      "execution_count": 90,
      "outputs": [
        {
          "output_type": "execute_result",
          "data": {
            "text/plain": [
              "2*x**2 + 3*x + 4"
            ],
            "text/latex": "$\\displaystyle 2 x^{2} + 3 x + 4$"
          },
          "metadata": {},
          "execution_count": 90
        }
      ]
    },
    {
      "cell_type": "code",
      "source": [
        "# Avaliar a função em um ponto específico\n",
        "f.subs(x, 3)"
      ],
      "metadata": {
        "colab": {
          "base_uri": "https://localhost:8080/",
          "height": 37
        },
        "id": "XAsmDFb66XeR",
        "outputId": "ecfe591e-2c3f-434b-d2ec-7d5a1a5d5a1b"
      },
      "execution_count": 89,
      "outputs": [
        {
          "output_type": "execute_result",
          "data": {
            "text/plain": [
              "31"
            ],
            "text/latex": "$\\displaystyle 31$"
          },
          "metadata": {},
          "execution_count": 89
        }
      ]
    },
    {
      "cell_type": "code",
      "source": [
        "#Função composta\n",
        "\n",
        "# Definição de uma função\n",
        "g = sympy.Function('g')(x)\n",
        "g = x**2\n",
        "\n",
        "f.subs(x, g)"
      ],
      "metadata": {
        "colab": {
          "base_uri": "https://localhost:8080/",
          "height": 39
        },
        "id": "0s08Yu_x7FaG",
        "outputId": "9469f19a-f1ef-4441-b743-8cc58c0ce323"
      },
      "execution_count": 92,
      "outputs": [
        {
          "output_type": "execute_result",
          "data": {
            "text/plain": [
              "2*x**4 + 3*x**2 + 4"
            ],
            "text/latex": "$\\displaystyle 2 x^{4} + 3 x^{2} + 4$"
          },
          "metadata": {},
          "execution_count": 92
        }
      ]
    },
    {
      "cell_type": "code",
      "source": [
        "# Outras coisas legais\n",
        "\n",
        "# Definição de uma função\n",
        "h = sympy.Function('h')(x)\n",
        "h = x**2-4\n",
        "\n",
        "sympy.roots(h)"
      ],
      "metadata": {
        "id": "XN0LeJZi79iD"
      },
      "execution_count": null,
      "outputs": []
    },
    {
      "cell_type": "markdown",
      "source": [
        "---"
      ],
      "metadata": {
        "id": "FVTtxAm47D6w"
      }
    }
  ]
}