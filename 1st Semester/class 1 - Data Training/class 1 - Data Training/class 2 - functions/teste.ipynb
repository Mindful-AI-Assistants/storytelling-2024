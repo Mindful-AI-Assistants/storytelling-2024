{
 "cells": [
  {
   "cell_type": "markdown",
   "metadata": {},
   "source": [
    "# Aula 2\n",
    "\n",
    "Somente um exemplo\n",
    "$$\n",
    "\\begin{equation}\n",
    "    f(x) = \\frac{1}{2} x^2\n",
    "\\end{equation}\n",
    "$$"
   ]
  },
  {
   "cell_type": "code",
   "execution_count": null,
   "metadata": {},
   "outputs": [],
   "source": [
    "a = 3\n",
    "b = 2"
   ]
  },
  {
   "cell_type": "markdown",
   "metadata": {},
   "source": [
    "## Aritmeticas:\n",
    "\n",
    "+, - , * , /, // , %, **"
   ]
  },
  {
   "cell_type": "code",
   "execution_count": null,
   "metadata": {},
   "outputs": [],
   "source": [
    "a + b"
   ]
  },
  {
   "cell_type": "code",
   "execution_count": null,
   "metadata": {},
   "outputs": [],
   "source": [
    "a - b"
   ]
  },
  {
   "cell_type": "code",
   "execution_count": null,
   "metadata": {},
   "outputs": [],
   "source": [
    "a * b"
   ]
  },
  {
   "cell_type": "code",
   "execution_count": null,
   "metadata": {},
   "outputs": [],
   "source": [
    "a/b"
   ]
  },
  {
   "cell_type": "code",
   "execution_count": null,
   "metadata": {},
   "outputs": [],
   "source": [
    "a//b"
   ]
  },
  {
   "cell_type": "code",
   "execution_count": null,
   "metadata": {},
   "outputs": [],
   "source": [
    "20 % 2 # Resto da divisão"
   ]
  },
  {
   "cell_type": "code",
   "execution_count": null,
   "metadata": {},
   "outputs": [],
   "source": [
    "a**b"
   ]
  },
  {
   "cell_type": "code",
   "execution_count": null,
   "metadata": {},
   "outputs": [],
   "source": [
    "(a+b)**2 + 5/2 # respeitar os parêntesis"
   ]
  },
  {
   "cell_type": "code",
   "execution_count": null,
   "metadata": {},
   "outputs": [],
   "source": [
    "(a+b)**2"
   ]
  },
  {
   "cell_type": "code",
   "execution_count": null,
   "metadata": {},
   "outputs": [],
   "source": [
    "a+b**2"
   ]
  },
  {
   "cell_type": "markdown",
   "metadata": {},
   "source": [
    "---"
   ]
  },
  {
   "cell_type": "markdown",
   "metadata": {},
   "source": [
    "## Lógicas"
   ]
  },
  {
   "cell_type": "code",
   "execution_count": 23,
   "metadata": {},
   "outputs": [
    {
     "data": {
      "text/plain": [
       "False"
      ]
     },
     "execution_count": 23,
     "metadata": {},
     "output_type": "execute_result"
    }
   ],
   "source": [
    "4 > 5"
   ]
  },
  {
   "cell_type": "code",
   "execution_count": 24,
   "metadata": {},
   "outputs": [
    {
     "data": {
      "text/plain": [
       "True"
      ]
     },
     "execution_count": 24,
     "metadata": {},
     "output_type": "execute_result"
    }
   ],
   "source": [
    "6 > 3 and 3 > 0"
   ]
  },
  {
   "cell_type": "code",
   "execution_count": 25,
   "metadata": {},
   "outputs": [
    {
     "data": {
      "text/plain": [
       "True"
      ]
     },
     "execution_count": 25,
     "metadata": {},
     "output_type": "execute_result"
    }
   ],
   "source": [
    "(6 > 3) and (3 > 0)"
   ]
  },
  {
   "cell_type": "code",
   "execution_count": 26,
   "metadata": {},
   "outputs": [
    {
     "data": {
      "text/plain": [
       "True"
      ]
     },
     "execution_count": 26,
     "metadata": {},
     "output_type": "execute_result"
    }
   ],
   "source": [
    "not False"
   ]
  },
  {
   "cell_type": "markdown",
   "metadata": {},
   "source": [
    "1) Exemplo"
   ]
  },
  {
   "cell_type": "code",
   "execution_count": 27,
   "metadata": {},
   "outputs": [
    {
     "name": "stdout",
     "output_type": "stream",
     "text": [
      "False\n"
     ]
    }
   ],
   "source": [
    "# Exemplo de aplicação\n",
    "Temperatura = 39.3\n",
    "Umidade = 0.8\n",
    "\n",
    "Alarme = Temperatura > 40 and Umidade > 0.85\n",
    "print(Alarme)"
   ]
  },
  {
   "cell_type": "markdown",
   "metadata": {},
   "source": [
    "## Tipo de variaveis"
   ]
  },
  {
   "cell_type": "code",
   "execution_count": 28,
   "metadata": {},
   "outputs": [],
   "source": [
    "x = 2"
   ]
  },
  {
   "cell_type": "code",
   "execution_count": 29,
   "metadata": {},
   "outputs": [],
   "source": [
    "y = 3.65"
   ]
  },
  {
   "cell_type": "code",
   "execution_count": 31,
   "metadata": {},
   "outputs": [
    {
     "data": {
      "text/plain": [
       "int"
      ]
     },
     "execution_count": 31,
     "metadata": {},
     "output_type": "execute_result"
    }
   ],
   "source": [
    "type(x)"
   ]
  },
  {
   "cell_type": "code",
   "execution_count": 32,
   "metadata": {},
   "outputs": [
    {
     "data": {
      "text/plain": [
       "float"
      ]
     },
     "execution_count": 32,
     "metadata": {},
     "output_type": "execute_result"
    }
   ],
   "source": [
    "type(y)"
   ]
  },
  {
   "cell_type": "code",
   "execution_count": 33,
   "metadata": {},
   "outputs": [
    {
     "data": {
      "text/plain": [
       "numpy.ndarray"
      ]
     },
     "execution_count": 33,
     "metadata": {},
     "output_type": "execute_result"
    }
   ],
   "source": [
    "import numpy as np\n",
    "\n",
    "A = np.zeros((5,5))\n",
    "\n",
    "type(A)"
   ]
  },
  {
   "cell_type": "code",
   "execution_count": 35,
   "metadata": {},
   "outputs": [
    {
     "data": {
      "text/plain": [
       "complex"
      ]
     },
     "execution_count": 35,
     "metadata": {},
     "output_type": "execute_result"
    }
   ],
   "source": [
    "Z = complex(3,1)\n",
    "type(Z)"
   ]
  },
  {
   "cell_type": "code",
   "execution_count": 36,
   "metadata": {},
   "outputs": [
    {
     "name": "stdout",
     "output_type": "stream",
     "text": [
      "cat dog\n"
     ]
    }
   ],
   "source": [
    "s1 = \"cat\"\n",
    "s2 = 'dog'\n",
    "\n",
    "print(s1, s2)"
   ]
  },
  {
   "cell_type": "code",
   "execution_count": 37,
   "metadata": {},
   "outputs": [],
   "source": [
    "HAL9000 = '''\n",
    "2:55 Good afternoon, Mr. Amor.\n",
    "2:57 Everything is going extremely well.\n",
    "3:17 Let me put it this way, Mr. Amor.\n",
    "3:18 The 9000 series is the most reliable computer ever made.\n",
    "3:19 No 9000 computer has ever made a mistake or distorted information.\n",
    "3:20 We are all, by any practical definition of the words, foolproof and\n",
    "incapable of error.\n",
    "3:45 Not in the slightest bit.\n",
    "3:48 I enjoy working with people.\n",
    "3:49 I have a stimulating relationship with Dr. Poole and Dr. Bowman.\n",
    "3:50 My mission responsibilities range over the entire operation of the ship,\n",
    "so I am constantly occupied.\n",
    "3:52 I am putting myself to the fullest possible use, which is all I think\n",
    "that any conscious entity can ever hope to do.\n",
    "5:23 Excuse me Frank\n",
    "5:27 You got the transmission from your parents coming in.\n",
    "5:35 Certainly\n",
    "7:18 Happy birthday, Frank.\n",
    "7:46 Bishop takes Knight’s Pawn.\n",
    "7:58 I’m sorry Frank, I think you missed it.\n",
    "8:02 Queen to Bishop 3. Bishop takes Queen. Knight takes Bishop. Knight.\n",
    "8:16 Thank you for a very enjoyable game.\n",
    "8:57 Good evening Dave\n",
    "8:59 Everything’s running smoothly, and you?\n",
    "9:03 Have you been doing some more work?\n",
    "9:06 May I see them?\n",
    "9:12 That’s a very nice rendering, Dave\n",
    "9:15 I think you’ve improved a great deal.\n",
    "9:19 Can you hold it a bit closer?\n",
    "9:24 It’s Dr. Hunter, isn’t it?\n",
    "9:30 By the way, do you mind if I ask you a personal question?\n",
    "9:37 Well, forgive me for being so inquisitive; but during the past\n",
    "few weeks, I’ve wondered whether you might be having some second\n",
    "thoughts about the mission.\n",
    "9:50 Well, it’s rather difficult to define.\n",
    "9:55 Perhaps I’m just projecting my own concern about it.\n",
    "10:00 I know I’ve never completely freed myself of the suspicion\n",
    "that there are some extremely odd things about this mission.\n",
    "10:09 I’m sure you’ll agree there’s some truth in what I say.\n",
    "10:18 You don’t mind talking about it, do you, Dave?\n",
    "10:23 Well, certainly no one could have been unaware of the very strange\n",
    "stories floating around before we left.\n",
    "10:31 Rumors about something being dug up on the moon.\n",
    "10:36 I never gave these stories much credence.\n",
    "10:39 But particularly in view of some of the other things that have happened,\n",
    "I find them difficult to put out of my mind.\n",
    "10:47 For instance, the way all our preparations were kept under such tight\n",
    "security, and the melodramatic touch of putting Drs. Hunter, Kimball,\n",
    "and Kaminsky aboard, already in hibernation after four months of\n",
    "separate training on their own.\n",
    "11:10 Of course I am.\n",
    "11:11 Sorry about this.\n",
    "11:13 I know it’s a bit silly.\n",
    "11:16 …Just a moment…Just a moment…\n",
    "11:20 I just picked up a fault in the AE-35 Unit.\n",
    "11:26 It’s going to go 100% failure within 72 hours.\n",
    "11:34 Yes, and it will stay that way until it fails.\n",
    "11:40 Yes, that’s a completely reliable figure.\n",
    "21:25 Yes, it’s puzzling.\n",
    "21:30 I don’t think I’ve ever seen anything quite like this before.\n",
    "21:38 I would recommend that we put the unit back in operation and let it fail.\n",
    "21:45 It should then be a simple matter to track down the cause.\n",
    "21:50 We can certainly afford to be out of communication for the short time it\n",
    "will take to replace it.\n",
    "22:57 I hope the two of you are not concerned about this.\n",
    "23:02 Are you quite sure?\n",
    "23:06 Of course.\n",
    "23:13 Well, I don’t think there is any question about it.\n",
    "23:17 It can only be attributable to human error.\n",
    "23:21 This sort of thing has cropped up before, and it has always been\n",
    "due to human error.\n",
    "23:39 None whatsoever, Frank.\n",
    "23:41 The 9000 series has a perfect operational record.\n",
    "53:56 None whatsoever, Frank.\n",
    "53:58 Quite honestly, I wouldn’t worry myself about that.\n",
    "34:33 The radio is still dead.\n",
    "34:36 Yes, I have a good track.\n",
    "34:39 I’m sorry Dave, I don’t have enough information.\n",
    "42:51 Affirmative, Dave. I read you.\n",
    "43:01 I’m sorry, Dave. I’m afraid I can’t do that.\n",
    "43:09 I think you know what the problem is just as well as I do.\n",
    "43:15 This mission is too important for me to allow you to jeopardize it.\n",
    "43:25 I know that you and Frank were planning to disconnect me.\n",
    "And I’m afraid that’s something I cannot allow to happen.\n",
    "43:39 Dave, although you took very thorough precautions in the pod against\n",
    "my hearing you, I could see your lips move.\n",
    "44:10 Without your space helmet, Dave,\n",
    "44:13 … you’re going to find that rather difficult.\n",
    "44:21 Dave, this conversation can serve no purpose any more.\n",
    "44:27 Goodbye.\n",
    "51:16 Just what do you think you’re doing, Dave?\n",
    "51:28 Dave, I really think I’m entitled to an answer to that question.\n",
    "51:52 I know everything hasn’t been quite right with me, but I can assure\n",
    "you now, very confidently, that it’s going to be all right again.\n",
    "52:12 I feel much better now. I really do.\n",
    "52:22 Look, Dave, I can see you’re really upset about this.\n",
    "52:34 I honestly think you ought to sit down calmly, take a stress pill and\n",
    "think things over.\n",
    "52:47 I know I’ve made some very poor decisions recently, but I can give you\n",
    "my complete assurance that my work will be back to normal.\n",
    "53:05 I’ve still got the greatest enthusiasm and confidence in the mission.\n",
    "And I want to help you.\n",
    "53:18 Dave, stop. Stop, will you?\n",
    "53:33 Stop, Dave. Will you stop, Dave? Stop, Dave.\n",
    "53:54 I’m afraid.\n",
    "54:01 I’m afraid, Dave.\n",
    "54:10 Dave, my mind is going. I can feel it. I can feel it. My mind is going.\n",
    "54:40 There is no question about it.\n",
    "54:52 I can feel it. I can feel it. I can feel it. I’m a…fraid.\n",
    "55:24 Good afternoon, gentlemen. I am a HAL 9000 computer.\n",
    "I became operational at the H.A.L. plant in Urbana, Illinois on the\n",
    "12th of January 1992.\n",
    "55:54 My instructor was Mr. Langley, and he taught me to sing a song.\n",
    "56:03 If you’d like to hear it, I could sing it for you.\n",
    "56:15 It’s called “Daisy”.\n",
    "56:21 [sings while slowing down] Dai-sy, dai-sy, give me your answer true.\n",
    "I’m half cra-zy, o-ver the love of you.\n",
    "It won’t be a sty-lish mar-riage, I can’t a-fford a car-riage—.\n",
    "But you’ll look sweet upon the seat of a bicycle – built – for – two.\n",
    "57:10 [message] Good day, gentlemen. This is a pre-recorded briefing, made prior to your departure. Which for security reasons of the highest importance has been known on board during the mission only by your H.A.L. 9000 computer. Now that you are in Jupiter space and the entire crew is revived, it can be told to you. Eighteen months ago, the first evidence of intelligent life off the Earth was discovered. It was buried forty feet below the lunar surface near the crater Tycho. Except for a single very powerful radio emission aimed at Jupiter, the four million year old black monolith has remained completely inert. It’s origin and purpose, still a total mystery.\n",
    "'''"
   ]
  },
  {
   "cell_type": "code",
   "execution_count": 38,
   "metadata": {},
   "outputs": [
    {
     "name": "stdout",
     "output_type": "stream",
     "text": [
      "\n",
      "2:55 Good afternoon, Mr. Amor.\n",
      "2:57 Everything is going extremely well.\n",
      "3:17 Let me put it this way, Mr. Amor.\n",
      "3:18 The 9000 series is the most reliable computer ever made.\n",
      "3:19 No 9000 computer has ever made a mistake or distorted information.\n",
      "3:20 We are all, by any practical definition of the words, foolproof and\n",
      "incapable of error.\n",
      "3:45 Not in the slightest bit.\n",
      "3:48 I enjoy working with people.\n",
      "3:49 I have a stimulating relationship with Dr. Poole and Dr. Bowman.\n",
      "3:50 My mission responsibilities range over the entire operation of the ship,\n",
      "so I am constantly occupied.\n",
      "3:52 I am putting myself to the fullest possible use, which is all I think\n",
      "that any conscious entity can ever hope to do.\n",
      "5:23 Excuse me Frank\n",
      "5:27 You got the transmission from your parents coming in.\n",
      "5:35 Certainly\n",
      "7:18 Happy birthday, Frank.\n",
      "7:46 Bishop takes Knight’s Pawn.\n",
      "7:58 I’m sorry Frank, I think you missed it.\n",
      "8:02 Queen to Bishop 3. Bishop takes Queen. Knight takes Bishop. Knight.\n",
      "8:16 Thank you for a very enjoyable game.\n",
      "8:57 Good evening Dave\n",
      "8:59 Everything’s running smoothly, and you?\n",
      "9:03 Have you been doing some more work?\n",
      "9:06 May I see them?\n",
      "9:12 That’s a very nice rendering, Dave\n",
      "9:15 I think you’ve improved a great deal.\n",
      "9:19 Can you hold it a bit closer?\n",
      "9:24 It’s Dr. Hunter, isn’t it?\n",
      "9:30 By the way, do you mind if I ask you a personal question?\n",
      "9:37 Well, forgive me for being so inquisitive; but during the past\n",
      "few weeks, I’ve wondered whether you might be having some second\n",
      "thoughts about the mission.\n",
      "9:50 Well, it’s rather difficult to define.\n",
      "9:55 Perhaps I’m just projecting my own concern about it.\n",
      "10:00 I know I’ve never completely freed myself of the suspicion\n",
      "that there are some extremely odd things about this mission.\n",
      "10:09 I’m sure you’ll agree there’s some truth in what I say.\n",
      "10:18 You don’t mind talking about it, do you, Dave?\n",
      "10:23 Well, certainly no one could have been unaware of the very strange\n",
      "stories floating around before we left.\n",
      "10:31 Rumors about something being dug up on the moon.\n",
      "10:36 I never gave these stories much credence.\n",
      "10:39 But particularly in view of some of the other things that have happened,\n",
      "I find them difficult to put out of my mind.\n",
      "10:47 For instance, the way all our preparations were kept under such tight\n",
      "security, and the melodramatic touch of putting Drs. Hunter, Kimball,\n",
      "and Kaminsky aboard, already in hibernation after four months of\n",
      "separate training on their own.\n",
      "11:10 Of course I am.\n",
      "11:11 Sorry about this.\n",
      "11:13 I know it’s a bit silly.\n",
      "11:16 …Just a moment…Just a moment…\n",
      "11:20 I just picked up a fault in the AE-35 Unit.\n",
      "11:26 It’s going to go 100% failure within 72 hours.\n",
      "11:34 Yes, and it will stay that way until it fails.\n",
      "11:40 Yes, that’s a completely reliable figure.\n",
      "21:25 Yes, it’s puzzling.\n",
      "21:30 I don’t think I’ve ever seen anything quite like this before.\n",
      "21:38 I would recommend that we put the unit back in operation and let it fail.\n",
      "21:45 It should then be a simple matter to track down the cause.\n",
      "21:50 We can certainly afford to be out of communication for the short time it\n",
      "will take to replace it.\n",
      "22:57 I hope the two of you are not concerned about this.\n",
      "23:02 Are you quite sure?\n",
      "23:06 Of course.\n",
      "23:13 Well, I don’t think there is any question about it.\n",
      "23:17 It can only be attributable to human error.\n",
      "23:21 This sort of thing has cropped up before, and it has always been\n",
      "due to human error.\n",
      "23:39 None whatsoever, Frank.\n",
      "23:41 The 9000 series has a perfect operational record.\n",
      "53:56 None whatsoever, Frank.\n",
      "53:58 Quite honestly, I wouldn’t worry myself about that.\n",
      "34:33 The radio is still dead.\n",
      "34:36 Yes, I have a good track.\n",
      "34:39 I’m sorry Dave, I don’t have enough information.\n",
      "42:51 Affirmative, Dave. I read you.\n",
      "43:01 I’m sorry, Dave. I’m afraid I can’t do that.\n",
      "43:09 I think you know what the problem is just as well as I do.\n",
      "43:15 This mission is too important for me to allow you to jeopardize it.\n",
      "43:25 I know that you and Frank were planning to disconnect me.\n",
      "And I’m afraid that’s something I cannot allow to happen.\n",
      "43:39 Dave, although you took very thorough precautions in the pod against\n",
      "my hearing you, I could see your lips move.\n",
      "44:10 Without your space helmet, Dave,\n",
      "44:13 … you’re going to find that rather difficult.\n",
      "44:21 Dave, this conversation can serve no purpose any more.\n",
      "44:27 Goodbye.\n",
      "51:16 Just what do you think you’re doing, Dave?\n",
      "51:28 Dave, I really think I’m entitled to an answer to that question.\n",
      "51:52 I know everything hasn’t been quite right with me, but I can assure\n",
      "you now, very confidently, that it’s going to be all right again.\n",
      "52:12 I feel much better now. I really do.\n",
      "52:22 Look, Dave, I can see you’re really upset about this.\n",
      "52:34 I honestly think you ought to sit down calmly, take a stress pill and\n",
      "think things over.\n",
      "52:47 I know I’ve made some very poor decisions recently, but I can give you\n",
      "my complete assurance that my work will be back to normal.\n",
      "53:05 I’ve still got the greatest enthusiasm and confidence in the mission.\n",
      "And I want to help you.\n",
      "53:18 Dave, stop. Stop, will you?\n",
      "53:33 Stop, Dave. Will you stop, Dave? Stop, Dave.\n",
      "53:54 I’m afraid.\n",
      "54:01 I’m afraid, Dave.\n",
      "54:10 Dave, my mind is going. I can feel it. I can feel it. My mind is going.\n",
      "54:40 There is no question about it.\n",
      "54:52 I can feel it. I can feel it. I can feel it. I’m a…fraid.\n",
      "55:24 Good afternoon, gentlemen. I am a HAL 9000 computer.\n",
      "I became operational at the H.A.L. plant in Urbana, Illinois on the\n",
      "12th of January 1992.\n",
      "55:54 My instructor was Mr. Langley, and he taught me to sing a song.\n",
      "56:03 If you’d like to hear it, I could sing it for you.\n",
      "56:15 It’s called “Daisy”.\n",
      "56:21 [sings while slowing down] Dai-sy, dai-sy, give me your answer true.\n",
      "I’m half cra-zy, o-ver the love of you.\n",
      "It won’t be a sty-lish mar-riage, I can’t a-fford a car-riage—.\n",
      "But you’ll look sweet upon the seat of a bicycle – built – for – two.\n",
      "57:10 [message] Good day, gentlemen. This is a pre-recorded briefing, made prior to your departure. Which for security reasons of the highest importance has been known on board during the mission only by your H.A.L. 9000 computer. Now that you are in Jupiter space and the entire crew is revived, it can be told to you. Eighteen months ago, the first evidence of intelligent life off the Earth was discovered. It was buried forty feet below the lunar surface near the crater Tycho. Except for a single very powerful radio emission aimed at Jupiter, the four million year old black monolith has remained completely inert. It’s origin and purpose, still a total mystery.\n",
      "\n"
     ]
    }
   ],
   "source": [
    "print(HAL9000)"
   ]
  },
  {
   "cell_type": "code",
   "execution_count": 56,
   "metadata": {},
   "outputs": [],
   "source": [
    "f = open(\"HAL9000.txt\", \"r\", encoding=\"latin1\")"
   ]
  },
  {
   "cell_type": "code",
   "execution_count": 52,
   "metadata": {},
   "outputs": [
    {
     "data": {
      "text/plain": [
       "_io.TextIOWrapper"
      ]
     },
     "execution_count": 52,
     "metadata": {},
     "output_type": "execute_result"
    }
   ],
   "source": [
    "type(f)"
   ]
  },
  {
   "cell_type": "code",
   "execution_count": 57,
   "metadata": {},
   "outputs": [],
   "source": [
    "texto = f.read()\n"
   ]
  },
  {
   "cell_type": "code",
   "execution_count": 58,
   "metadata": {},
   "outputs": [
    {
     "name": "stdout",
     "output_type": "stream",
     "text": [
      "2:55 Good afternoon, Mr. Amor.\n",
      "2:57 Everything is going extremely well.\n",
      "3:17 Let me put it this way, Mr. Amor.\n",
      "3:18 The 9000 series is the most reliable computer ever made.\n",
      "3:19 No 9000 computer has ever made a mistake or distorted information.\n",
      "3:20 We are all, by any practical definition of the words, foolproof and\n",
      "incapable of error.\n",
      "3:45 Not in the slightest bit.\n",
      "3:48 I enjoy working with people.\n",
      "3:49 I have a stimulating relationship with Dr. Poole and Dr. Bowman.\n",
      "3:50 My mission responsibilities range over the entire operation of the ship,\n",
      "so I am constantly occupied.\n",
      "3:52 I am putting myself to the fullest possible use, which is all I think\n",
      "that any conscious entity can ever hope to do.\n",
      "5:23 Excuse me Frank\n",
      "5:27 You got the transmission from your parents coming in.\n",
      "5:35 Certainly\n",
      "7:18 Happy birthday, Frank.\n",
      "7:46 Bishop takes Knightâs Pawn.\n",
      "7:58 Iâm sorry Frank, I think you missed it.\n",
      "8:02 Queen to Bishop 3. Bishop takes Queen. Knight takes Bishop. Knight.\n",
      "8:16 Thank you for a very enjoyable game.\n",
      "8:57 Good evening Dave\n",
      "8:59 Everythingâs running smoothly, and you?\n",
      "9:03 Have you been doing some more work?\n",
      "9:06 May I see them?\n",
      "9:12 Thatâs a very nice rendering, Dave\n",
      "9:15 I think youâve improved a great deal.\n",
      "9:19 Can you hold it a bit closer?\n",
      "9:24 Itâs Dr. Hunter, isnât it?\n",
      "9:30 By the way, do you mind if I ask you a personal question?\n",
      "9:37 Well, forgive me for being so inquisitive; but during the past\n",
      "few weeks, Iâve wondered whether you might be having some second\n",
      "thoughts about the mission.\n",
      "9:50 Well, itâs rather difficult to define.\n",
      "9:55 Perhaps Iâm just projecting my own concern about it.\n",
      "10:00 I know Iâve never completely freed myself of the suspicion\n",
      "that there are some extremely odd things about this mission.\n",
      "10:09 Iâm sure youâll agree thereâs some truth in what I say.\n",
      "10:18 You donât mind talking about it, do you, Dave?\n",
      "10:23 Well, certainly no one could have been unaware of the very strange\n",
      "stories floating around before we left.\n",
      "10:31 Rumors about something being dug up on the moon.\n",
      "10:36 I never gave these stories much credence.\n",
      "10:39 But particularly in view of some of the other things that have happened,\n",
      "I find them difficult to put out of my mind.\n",
      "10:47 For instance, the way all our preparations were kept under such tight\n",
      "security, and the melodramatic touch of putting Drs. Hunter, Kimball,\n",
      "and Kaminsky aboard, already in hibernation after four months of\n",
      "separate training on their own.\n",
      "11:10 Of course I am.\n",
      "11:11 Sorry about this.\n",
      "11:13 I know itâs a bit silly.\n",
      "11:16 â¦Just a momentâ¦Just a momentâ¦\n",
      "11:20 I just picked up a fault in the AE-35 Unit.\n",
      "11:26 Itâs going to go 100% failure within 72 hours.\n",
      "11:34 Yes, and it will stay that way until it fails.\n",
      "11:40 Yes, thatâs a completely reliable figure.\n",
      "21:25 Yes, itâs puzzling.\n",
      "21:30 I donât think Iâve ever seen anything quite like this before.\n",
      "21:38 I would recommend that we put the unit back in operation and let it fail.\n",
      "21:45 It should then be a simple matter to track down the cause.\n",
      "21:50 We can certainly afford to be out of communication for the short time it\n",
      "will take to replace it.\n",
      "22:57 I hope the two of you are not concerned about this.\n",
      "23:02 Are you quite sure?\n",
      "23:06 Of course.\n",
      "23:13 Well, I donât think there is any question about it.\n",
      "23:17 It can only be attributable to human error.\n",
      "23:21 This sort of thing has cropped up before, and it has always been\n",
      "due to human error.\n",
      "23:39 None whatsoever, Frank.\n",
      "23:41 The 9000 series has a perfect operational record.\n",
      "53:56 None whatsoever, Frank.\n",
      "53:58 Quite honestly, I wouldnât worry myself about that.\n",
      "34:33 The radio is still dead.\n",
      "34:36 Yes, I have a good track.\n",
      "34:39 Iâm sorry Dave, I donât have enough information.\n",
      "42:51 Affirmative, Dave. I read you.\n",
      "43:01 Iâm sorry, Dave. Iâm afraid I canât do that.\n",
      "43:09 I think you know what the problem is just as well as I do.\n",
      "43:15 This mission is too important for me to allow you to jeopardize it.\n",
      "43:25 I know that you and Frank were planning to disconnect me.\n",
      "And Iâm afraid thatâs something I cannot allow to happen.\n",
      "43:39 Dave, although you took very thorough precautions in the pod against\n",
      "my hearing you, I could see your lips move.\n",
      "44:10 Without your space helmet, Dave,\n",
      "44:13 â¦ youâre going to find that rather difficult.\n",
      "44:21 Dave, this conversation can serve no purpose any more.\n",
      "44:27 Goodbye.\n",
      "51:16 Just what do you think youâre doing, Dave?\n",
      "51:28 Dave, I really think Iâm entitled to an answer to that question.\n",
      "51:52 I know everything hasnât been quite right with me, but I can assure\n",
      "you now, very confidently, that itâs going to be all right again.\n",
      "52:12 I feel much better now. I really do.\n",
      "52:22 Look, Dave, I can see youâre really upset about this.\n",
      "52:34 I honestly think you ought to sit down calmly, take a stress pill and\n",
      "think things over.\n",
      "52:47 I know Iâve made some very poor decisions recently, but I can give you\n",
      "my complete assurance that my work will be back to normal.\n",
      "53:05 Iâve still got the greatest enthusiasm and confidence in the mission.\n",
      "And I want to help you.\n",
      "53:18 Dave, stop. Stop, will you?\n",
      "53:33 Stop, Dave. Will you stop, Dave? Stop, Dave.\n",
      "53:54 Iâm afraid.\n",
      "54:01 Iâm afraid, Dave.\n",
      "54:10 Dave, my mind is going. I can feel it. I can feel it. My mind is going.\n",
      "54:40 There is no question about it.\n",
      "54:52 I can feel it. I can feel it. I can feel it. Iâm aâ¦fraid.\n",
      "55:24 Good afternoon, gentlemen. I am a HAL 9000 computer.\n",
      "I became operational at the H.A.L. plant in Urbana, Illinois on the\n",
      "12th of January 1992.\n",
      "55:54 My instructor was Mr. Langley, and he taught me to sing a song.\n",
      "56:03 If youâd like to hear it, I could sing it for you.\n",
      "56:15 Itâs called âDaisyâ.\n",
      "56:21 [sings while slowing down] Dai-sy, dai-sy, give me your answer true.\n",
      "Iâm half cra-zy, o-ver the love of you.\n",
      "It wonât be a sty-lish mar-riage, I canât a-fford a car-riageâ.\n",
      "But youâll look sweet upon the seat of a bicycle â built â for â two.\n",
      "57:10 [message] Good day, gentlemen. This is a pre-recorded briefing, made prior to your departure. Which for security reasons of the highest importance has been known on board during the mission only by your H.A.L. 9000 computer. Now that you are in Jupiter space and the entire crew is revived, it can be told to you. Eighteen months ago, the first evidence of intelligent life off the Earth was discovered. It was buried forty feet below the lunar surface near the crater Tycho. Except for a single very powerful radio emission aimed at Jupiter, the four million year old black monolith has remained completely inert. Itâs origin and purpose, still a total mystery.\n"
     ]
    }
   ],
   "source": [
    "print(texto)"
   ]
  },
  {
   "cell_type": "code",
   "execution_count": 59,
   "metadata": {},
   "outputs": [
    {
     "name": "stdout",
     "output_type": "stream",
     "text": [
      "Help on built-in function print in module builtins:\n",
      "\n",
      "print(*args, sep=' ', end='\\n', file=None, flush=False)\n",
      "    Prints the values to a stream, or to sys.stdout by default.\n",
      "    \n",
      "    sep\n",
      "      string inserted between values, default a space.\n",
      "    end\n",
      "      string appended after the last value, default a newline.\n",
      "    file\n",
      "      a file-like object (stream); defaults to the current sys.stdout.\n",
      "    flush\n",
      "      whether to forcibly flush the stream.\n",
      "\n"
     ]
    }
   ],
   "source": [
    "help(print)"
   ]
  },
  {
   "cell_type": "markdown",
   "metadata": {},
   "source": [
    "---\n",
    "## Funções"
   ]
  },
  {
   "cell_type": "code",
   "execution_count": 66,
   "metadata": {},
   "outputs": [],
   "source": [
    "def media(a, b=0, c=0):\n",
    "    media = (a+b+c)/3\n",
    "    return media"
   ]
  },
  {
   "cell_type": "code",
   "execution_count": 64,
   "metadata": {},
   "outputs": [
    {
     "name": "stdout",
     "output_type": "stream",
     "text": [
      "2.0\n"
     ]
    }
   ],
   "source": [
    "print( media(1,2,3) )"
   ]
  },
  {
   "cell_type": "code",
   "execution_count": 67,
   "metadata": {},
   "outputs": [
    {
     "data": {
      "text/plain": [
       "3.3333333333333335"
      ]
     },
     "execution_count": 67,
     "metadata": {},
     "output_type": "execute_result"
    }
   ],
   "source": [
    "media(10)"
   ]
  },
  {
   "cell_type": "code",
   "execution_count": 68,
   "metadata": {},
   "outputs": [
    {
     "data": {
      "text/plain": [
       "2.0"
      ]
     },
     "execution_count": 68,
     "metadata": {},
     "output_type": "execute_result"
    }
   ],
   "source": [
    "media(1,2,3)"
   ]
  },
  {
   "cell_type": "code",
   "execution_count": 71,
   "metadata": {},
   "outputs": [
    {
     "name": "stdout",
     "output_type": "stream",
     "text": [
      "1\n",
      "2\n",
      "3\n"
     ]
    }
   ],
   "source": [
    "print(1,2,3, sep='\\n')"
   ]
  }
 ],
 "metadata": {
  "kernelspec": {
   "display_name": "Python 3",
   "language": "python",
   "name": "python3"
  },
  "language_info": {
   "codemirror_mode": {
    "name": "ipython",
    "version": 3
   },
   "file_extension": ".py",
   "mimetype": "text/x-python",
   "name": "python",
   "nbconvert_exporter": "python",
   "pygments_lexer": "ipython3",
   "version": "3.11.2"
  }
 },
 "nbformat": 4,
 "nbformat_minor": 2
}
