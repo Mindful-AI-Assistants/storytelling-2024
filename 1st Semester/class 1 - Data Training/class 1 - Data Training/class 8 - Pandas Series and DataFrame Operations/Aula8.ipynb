{
 "cells": [
  {
   "cell_type": "markdown",
   "metadata": {},
   "source": [
    "# Processamento de Dados em Python usando Pandas"
   ]
  },
  {
   "cell_type": "markdown",
   "metadata": {},
   "source": [
    "## Pandas\n",
    "- Um pacote muito poderoso de Python para a manipulação tabelas\n",
    "- Construído em cima do numpy, é eficiente\n",
    "- Poupa muito esforço de escrever código python de baixo nível para manipulação, extração e derivações de informações relacionadas às tabelas\n",
    "- Fácil visualização com Matplotlib\n",
    "- Principais estruturas de dados - `Series` e `DataFrame`"
   ]
  },
  {
   "cell_type": "code",
   "execution_count": 1,
   "metadata": {},
   "outputs": [],
   "source": [
    "import pandas as pd\n",
    "import numpy as np\n",
    "import matplotlib.pyplot as plt"
   ]
  },
  {
   "cell_type": "markdown",
   "metadata": {},
   "source": [
    "## `Series`: array indexado "
   ]
  },
  {
   "cell_type": "code",
   "execution_count": 2,
   "metadata": {},
   "outputs": [
    {
     "data": {
      "text/plain": [
       "0    0.25\n",
       "1    0.50\n",
       "2    0.75\n",
       "3    1.00\n",
       "dtype: float64"
      ]
     },
     "execution_count": 2,
     "metadata": {},
     "output_type": "execute_result"
    }
   ],
   "source": [
    "data = pd.Series([0.25, 0.5, 0.75, 1])\n",
    "data"
   ]
  },
  {
   "cell_type": "code",
   "execution_count": 3,
   "metadata": {},
   "outputs": [
    {
     "data": {
      "text/plain": [
       "0.75"
      ]
     },
     "execution_count": 3,
     "metadata": {},
     "output_type": "execute_result"
    }
   ],
   "source": [
    "# Acesso aos dados\n",
    "data[2]"
   ]
  },
  {
   "cell_type": "markdown",
   "metadata": {},
   "source": [
    "## Índice explícito"
   ]
  },
  {
   "cell_type": "code",
   "execution_count": 4,
   "metadata": {},
   "outputs": [
    {
     "data": {
      "text/plain": [
       "a    0.25\n",
       "b    0.50\n",
       "c    0.75\n",
       "d    1.00\n",
       "dtype: float64"
      ]
     },
     "execution_count": 4,
     "metadata": {},
     "output_type": "execute_result"
    }
   ],
   "source": [
    "data = pd.Series([0.25, 0.5, 0.75, 1], \n",
    "                 index=['a', 'b', 'c', 'd'])\n",
    "#print(data)\n",
    "data"
   ]
  },
  {
   "cell_type": "code",
   "execution_count": 5,
   "metadata": {},
   "outputs": [
    {
     "data": {
      "text/plain": [
       "0.5"
      ]
     },
     "execution_count": 5,
     "metadata": {},
     "output_type": "execute_result"
    }
   ],
   "source": [
    "# Acesso aos dados\n",
    "data['b']"
   ]
  },
  {
   "cell_type": "markdown",
   "metadata": {},
   "source": [
    "## Podemos utilizar tal como um dicionário"
   ]
  },
  {
   "cell_type": "code",
   "execution_count": 6,
   "metadata": {},
   "outputs": [],
   "source": [
    "# Dicionário População de São Paulo\n",
    "populacaoSP = {'São Paulo': 11914851, \n",
    "               'Guarulhos': 1361862,\n",
    "               'Campinas': 1181555,\n",
    "               'São Bernardo do Campo': 815109,\n",
    "               'São José dos Campos': 716688}"
   ]
  },
  {
   "cell_type": "code",
   "execution_count": 7,
   "metadata": {},
   "outputs": [
    {
     "data": {
      "text/plain": [
       "1181555"
      ]
     },
     "execution_count": 7,
     "metadata": {},
     "output_type": "execute_result"
    }
   ],
   "source": [
    "populacaoSP['Campinas']"
   ]
  },
  {
   "cell_type": "code",
   "execution_count": 8,
   "metadata": {},
   "outputs": [
    {
     "name": "stdout",
     "output_type": "stream",
     "text": [
      "São Paulo                11914851\n",
      "Guarulhos                 1361862\n",
      "Campinas                  1181555\n",
      "São Bernardo do Campo      815109\n",
      "São José dos Campos        716688\n",
      "dtype: int64\n"
     ]
    }
   ],
   "source": [
    "pop = pd.Series(populacaoSP)\n",
    "print(pop)"
   ]
  },
  {
   "cell_type": "code",
   "execution_count": 9,
   "metadata": {},
   "outputs": [
    {
     "name": "stdout",
     "output_type": "stream",
     "text": [
      "A minha idade é 18 anos\n"
     ]
    }
   ],
   "source": [
    "idade = 18\n",
    "print(f'A minha idade é {idade} anos')"
   ]
  },
  {
   "cell_type": "code",
   "execution_count": 10,
   "metadata": {},
   "outputs": [
    {
     "data": {
      "text/plain": [
       "São Paulo                11914851\n",
       "Guarulhos                 1361862\n",
       "Campinas                  1181555\n",
       "São Bernardo do Campo      815109\n",
       "São José dos Campos        716688\n",
       "dtype: int64"
      ]
     },
     "execution_count": 10,
     "metadata": {},
     "output_type": "execute_result"
    }
   ],
   "source": [
    "pd.Series({'São Paulo': 11914851, \n",
    "           'Guarulhos': 1361862, \n",
    "           'Campinas': 1181555, \n",
    "           'São Bernardo do Campo': 815109, \n",
    "           'São José dos Campos': 716688})"
   ]
  },
  {
   "cell_type": "markdown",
   "metadata": {},
   "source": [
    "## Acesso e fatiamento dos dados"
   ]
  },
  {
   "cell_type": "code",
   "execution_count": 11,
   "metadata": {},
   "outputs": [
    {
     "data": {
      "text/plain": [
       "1181555"
      ]
     },
     "execution_count": 11,
     "metadata": {},
     "output_type": "execute_result"
    }
   ],
   "source": [
    "# Acesso ao dado\n",
    "pop['Campinas']"
   ]
  },
  {
   "cell_type": "code",
   "execution_count": 12,
   "metadata": {},
   "outputs": [
    {
     "data": {
      "text/plain": [
       "Series([], dtype: int64)"
      ]
     },
     "execution_count": 12,
     "metadata": {},
     "output_type": "execute_result"
    }
   ],
   "source": [
    "# Fatiamento dos dados\n",
    "pop['São Bernardo do Campo':'São Paulo']"
   ]
  },
  {
   "cell_type": "code",
   "execution_count": 13,
   "metadata": {},
   "outputs": [
    {
     "data": {
      "text/plain": [
       "São Paulo                11914851\n",
       "Guarulhos                 1361862\n",
       "Campinas                  1181555\n",
       "São Bernardo do Campo      815109\n",
       "dtype: int64"
      ]
     },
     "execution_count": 13,
     "metadata": {},
     "output_type": "execute_result"
    }
   ],
   "source": [
    "# Fatiamento dos dados\n",
    "pop['São Paulo':'São Bernardo do Campo']"
   ]
  },
  {
   "cell_type": "markdown",
   "metadata": {},
   "source": [
    "## O objeto `DataFrame`\n",
    "\n",
    "É um array bidimensional genérico com uma quantidade flexível de linhas e colunas"
   ]
  },
  {
   "cell_type": "code",
   "execution_count": 14,
   "metadata": {},
   "outputs": [
    {
     "data": {
      "text/html": [
       "<div>\n",
       "<style scoped>\n",
       "    .dataframe tbody tr th:only-of-type {\n",
       "        vertical-align: middle;\n",
       "    }\n",
       "\n",
       "    .dataframe tbody tr th {\n",
       "        vertical-align: top;\n",
       "    }\n",
       "\n",
       "    .dataframe thead th {\n",
       "        text-align: right;\n",
       "    }\n",
       "</style>\n",
       "<table border=\"1\" class=\"dataframe\">\n",
       "  <thead>\n",
       "    <tr style=\"text-align: right;\">\n",
       "      <th></th>\n",
       "      <th>col1</th>\n",
       "      <th>col2</th>\n",
       "    </tr>\n",
       "  </thead>\n",
       "  <tbody>\n",
       "    <tr>\n",
       "      <th>a</th>\n",
       "      <td>1</td>\n",
       "      <td>3</td>\n",
       "    </tr>\n",
       "    <tr>\n",
       "      <th>b</th>\n",
       "      <td>2</td>\n",
       "      <td>4</td>\n",
       "    </tr>\n",
       "  </tbody>\n",
       "</table>\n",
       "</div>"
      ],
      "text/plain": [
       "   col1  col2\n",
       "a     1     3\n",
       "b     2     4"
      ]
     },
     "execution_count": 14,
     "metadata": {},
     "output_type": "execute_result"
    }
   ],
   "source": [
    "# Construção de um DataFrame a partir de um dicionário\n",
    "d = {'col1': [1,2], 'col2': [3,4]}\n",
    "df = pd.DataFrame(data=d, index=['a', 'b'])\n",
    "df"
   ]
  },
  {
   "cell_type": "code",
   "execution_count": 15,
   "metadata": {},
   "outputs": [
    {
     "data": {
      "text/plain": [
       "array([[7, 1, 1, 9, 6],\n",
       "       [4, 5, 1, 1, 4],\n",
       "       [6, 9, 8, 4, 1],\n",
       "       [4, 8, 3, 3, 7],\n",
       "       [1, 9, 0, 4, 8]])"
      ]
     },
     "execution_count": 15,
     "metadata": {},
     "output_type": "execute_result"
    }
   ],
   "source": [
    "np.random.randint(low=0, high=10, size=(5,5))"
   ]
  },
  {
   "cell_type": "code",
   "execution_count": 16,
   "metadata": {},
   "outputs": [
    {
     "data": {
      "text/html": [
       "<div>\n",
       "<style scoped>\n",
       "    .dataframe tbody tr th:only-of-type {\n",
       "        vertical-align: middle;\n",
       "    }\n",
       "\n",
       "    .dataframe tbody tr th {\n",
       "        vertical-align: top;\n",
       "    }\n",
       "\n",
       "    .dataframe thead th {\n",
       "        text-align: right;\n",
       "    }\n",
       "</style>\n",
       "<table border=\"1\" class=\"dataframe\">\n",
       "  <thead>\n",
       "    <tr style=\"text-align: right;\">\n",
       "      <th></th>\n",
       "      <th>a</th>\n",
       "      <th>b</th>\n",
       "      <th>c</th>\n",
       "      <th>d</th>\n",
       "      <th>e</th>\n",
       "    </tr>\n",
       "  </thead>\n",
       "  <tbody>\n",
       "    <tr>\n",
       "      <th>0</th>\n",
       "      <td>9</td>\n",
       "      <td>7</td>\n",
       "      <td>9</td>\n",
       "      <td>5</td>\n",
       "      <td>1</td>\n",
       "    </tr>\n",
       "    <tr>\n",
       "      <th>1</th>\n",
       "      <td>3</td>\n",
       "      <td>1</td>\n",
       "      <td>5</td>\n",
       "      <td>9</td>\n",
       "      <td>1</td>\n",
       "    </tr>\n",
       "    <tr>\n",
       "      <th>2</th>\n",
       "      <td>2</td>\n",
       "      <td>4</td>\n",
       "      <td>7</td>\n",
       "      <td>8</td>\n",
       "      <td>8</td>\n",
       "    </tr>\n",
       "    <tr>\n",
       "      <th>3</th>\n",
       "      <td>8</td>\n",
       "      <td>5</td>\n",
       "      <td>2</td>\n",
       "      <td>7</td>\n",
       "      <td>3</td>\n",
       "    </tr>\n",
       "    <tr>\n",
       "      <th>4</th>\n",
       "      <td>0</td>\n",
       "      <td>9</td>\n",
       "      <td>2</td>\n",
       "      <td>4</td>\n",
       "      <td>2</td>\n",
       "    </tr>\n",
       "  </tbody>\n",
       "</table>\n",
       "</div>"
      ],
      "text/plain": [
       "   a  b  c  d  e\n",
       "0  9  7  9  5  1\n",
       "1  3  1  5  9  1\n",
       "2  2  4  7  8  8\n",
       "3  8  5  2  7  3\n",
       "4  0  9  2  4  2"
      ]
     },
     "execution_count": 16,
     "metadata": {},
     "output_type": "execute_result"
    }
   ],
   "source": [
    "# Construção do DataFrame a partir de um numpy array\n",
    "df2 = pd.DataFrame(np.random.randint(low=0, high=10, size=(5,5)),\n",
    "                  columns=['a','b','c','d','e'])\n",
    "df2"
   ]
  },
  {
   "cell_type": "code",
   "execution_count": 17,
   "metadata": {},
   "outputs": [
    {
     "data": {
      "text/plain": [
       "São Paulo                1521110\n",
       "Guarulhos                 318675\n",
       "Campinas                  794571\n",
       "São Bernardo do Campo     409532\n",
       "São José dos Campos      1099409\n",
       "Itu                          999\n",
       "dtype: int64"
      ]
     },
     "execution_count": 17,
     "metadata": {},
     "output_type": "execute_result"
    }
   ],
   "source": [
    "# Dicionário de áreas dos municípios\n",
    "areaSP = {'São Paulo': 1521110, \n",
    "           'Guarulhos': 318675,\n",
    "           'Campinas': 794571,\n",
    "           'São Bernardo do Campo': 409532,\n",
    "           'São José dos Campos': 1099409,\n",
    "           'Itu': 999}\n",
    "area = pd.Series(areaSP)\n",
    "area"
   ]
  },
  {
   "cell_type": "code",
   "execution_count": 18,
   "metadata": {},
   "outputs": [
    {
     "data": {
      "text/html": [
       "<div>\n",
       "<style scoped>\n",
       "    .dataframe tbody tr th:only-of-type {\n",
       "        vertical-align: middle;\n",
       "    }\n",
       "\n",
       "    .dataframe tbody tr th {\n",
       "        vertical-align: top;\n",
       "    }\n",
       "\n",
       "    .dataframe thead th {\n",
       "        text-align: right;\n",
       "    }\n",
       "</style>\n",
       "<table border=\"1\" class=\"dataframe\">\n",
       "  <thead>\n",
       "    <tr style=\"text-align: right;\">\n",
       "      <th></th>\n",
       "      <th>População</th>\n",
       "      <th>Area</th>\n",
       "    </tr>\n",
       "  </thead>\n",
       "  <tbody>\n",
       "    <tr>\n",
       "      <th>Campinas</th>\n",
       "      <td>1181555.0</td>\n",
       "      <td>794571</td>\n",
       "    </tr>\n",
       "    <tr>\n",
       "      <th>Guarulhos</th>\n",
       "      <td>1361862.0</td>\n",
       "      <td>318675</td>\n",
       "    </tr>\n",
       "    <tr>\n",
       "      <th>Itu</th>\n",
       "      <td>NaN</td>\n",
       "      <td>999</td>\n",
       "    </tr>\n",
       "    <tr>\n",
       "      <th>São Bernardo do Campo</th>\n",
       "      <td>815109.0</td>\n",
       "      <td>409532</td>\n",
       "    </tr>\n",
       "    <tr>\n",
       "      <th>São José dos Campos</th>\n",
       "      <td>716688.0</td>\n",
       "      <td>1099409</td>\n",
       "    </tr>\n",
       "    <tr>\n",
       "      <th>São Paulo</th>\n",
       "      <td>11914851.0</td>\n",
       "      <td>1521110</td>\n",
       "    </tr>\n",
       "  </tbody>\n",
       "</table>\n",
       "</div>"
      ],
      "text/plain": [
       "                        População     Area\n",
       "Campinas                1181555.0   794571\n",
       "Guarulhos               1361862.0   318675\n",
       "Itu                           NaN      999\n",
       "São Bernardo do Campo    815109.0   409532\n",
       "São José dos Campos      716688.0  1099409\n",
       "São Paulo              11914851.0  1521110"
      ]
     },
     "execution_count": 18,
     "metadata": {},
     "output_type": "execute_result"
    }
   ],
   "source": [
    "# Criação de um DataFrame\n",
    "municipios = pd.DataFrame({'População': pop,\n",
    "                           'Area': area})\n",
    "municipios"
   ]
  },
  {
   "cell_type": "code",
   "execution_count": 19,
   "metadata": {},
   "outputs": [
    {
     "data": {
      "text/html": [
       "<div>\n",
       "<style scoped>\n",
       "    .dataframe tbody tr th:only-of-type {\n",
       "        vertical-align: middle;\n",
       "    }\n",
       "\n",
       "    .dataframe tbody tr th {\n",
       "        vertical-align: top;\n",
       "    }\n",
       "\n",
       "    .dataframe thead th {\n",
       "        text-align: right;\n",
       "    }\n",
       "</style>\n",
       "<table border=\"1\" class=\"dataframe\">\n",
       "  <thead>\n",
       "    <tr style=\"text-align: right;\">\n",
       "      <th></th>\n",
       "      <th>População</th>\n",
       "      <th>Area</th>\n",
       "      <th>densidade</th>\n",
       "    </tr>\n",
       "  </thead>\n",
       "  <tbody>\n",
       "    <tr>\n",
       "      <th>Campinas</th>\n",
       "      <td>1181555.0</td>\n",
       "      <td>794571</td>\n",
       "      <td>1.487035</td>\n",
       "    </tr>\n",
       "    <tr>\n",
       "      <th>Guarulhos</th>\n",
       "      <td>1361862.0</td>\n",
       "      <td>318675</td>\n",
       "      <td>4.273514</td>\n",
       "    </tr>\n",
       "    <tr>\n",
       "      <th>Itu</th>\n",
       "      <td>NaN</td>\n",
       "      <td>999</td>\n",
       "      <td>NaN</td>\n",
       "    </tr>\n",
       "    <tr>\n",
       "      <th>São Bernardo do Campo</th>\n",
       "      <td>815109.0</td>\n",
       "      <td>409532</td>\n",
       "      <td>1.990343</td>\n",
       "    </tr>\n",
       "    <tr>\n",
       "      <th>São José dos Campos</th>\n",
       "      <td>716688.0</td>\n",
       "      <td>1099409</td>\n",
       "      <td>0.651885</td>\n",
       "    </tr>\n",
       "    <tr>\n",
       "      <th>São Paulo</th>\n",
       "      <td>11914851.0</td>\n",
       "      <td>1521110</td>\n",
       "      <td>7.832998</td>\n",
       "    </tr>\n",
       "  </tbody>\n",
       "</table>\n",
       "</div>"
      ],
      "text/plain": [
       "                        População     Area  densidade\n",
       "Campinas                1181555.0   794571   1.487035\n",
       "Guarulhos               1361862.0   318675   4.273514\n",
       "Itu                           NaN      999        NaN\n",
       "São Bernardo do Campo    815109.0   409532   1.990343\n",
       "São José dos Campos      716688.0  1099409   0.651885\n",
       "São Paulo              11914851.0  1521110   7.832998"
      ]
     },
     "execution_count": 19,
     "metadata": {},
     "output_type": "execute_result"
    }
   ],
   "source": [
    "#municipios['População']\n",
    "densidade = municipios['População'] / municipios['Area']\n",
    "\n",
    "municipios['densidade'] = densidade\n",
    "municipios"
   ]
  },
  {
   "cell_type": "code",
   "execution_count": 20,
   "metadata": {},
   "outputs": [
    {
     "data": {
      "text/plain": [
       "DatetimeIndex(['2024-04-29', '2024-04-30', '2024-05-01', '2024-05-02',\n",
       "               '2024-05-03', '2024-05-04'],\n",
       "              dtype='datetime64[ns]', freq='D')"
      ]
     },
     "execution_count": 20,
     "metadata": {},
     "output_type": "execute_result"
    }
   ],
   "source": [
    "# Outro exemplo\n",
    "datas = pd.date_range(start='2024-04-29', periods=6)\n",
    "datas"
   ]
  },
  {
   "cell_type": "code",
   "execution_count": 21,
   "metadata": {},
   "outputs": [
    {
     "data": {
      "text/html": [
       "<div>\n",
       "<style scoped>\n",
       "    .dataframe tbody tr th:only-of-type {\n",
       "        vertical-align: middle;\n",
       "    }\n",
       "\n",
       "    .dataframe tbody tr th {\n",
       "        vertical-align: top;\n",
       "    }\n",
       "\n",
       "    .dataframe thead th {\n",
       "        text-align: right;\n",
       "    }\n",
       "</style>\n",
       "<table border=\"1\" class=\"dataframe\">\n",
       "  <thead>\n",
       "    <tr style=\"text-align: right;\">\n",
       "      <th></th>\n",
       "      <th>A</th>\n",
       "      <th>B</th>\n",
       "      <th>C</th>\n",
       "      <th>D</th>\n",
       "    </tr>\n",
       "  </thead>\n",
       "  <tbody>\n",
       "    <tr>\n",
       "      <th>2024-04-29</th>\n",
       "      <td>-0.168160</td>\n",
       "      <td>-0.565237</td>\n",
       "      <td>1.167155</td>\n",
       "      <td>-0.065497</td>\n",
       "    </tr>\n",
       "    <tr>\n",
       "      <th>2024-04-30</th>\n",
       "      <td>-0.587345</td>\n",
       "      <td>0.340813</td>\n",
       "      <td>-0.484779</td>\n",
       "      <td>0.126839</td>\n",
       "    </tr>\n",
       "    <tr>\n",
       "      <th>2024-05-01</th>\n",
       "      <td>0.741808</td>\n",
       "      <td>0.731895</td>\n",
       "      <td>0.395799</td>\n",
       "      <td>-0.441426</td>\n",
       "    </tr>\n",
       "    <tr>\n",
       "      <th>2024-05-02</th>\n",
       "      <td>0.719509</td>\n",
       "      <td>-0.074094</td>\n",
       "      <td>-0.599280</td>\n",
       "      <td>-0.260872</td>\n",
       "    </tr>\n",
       "    <tr>\n",
       "      <th>2024-05-03</th>\n",
       "      <td>0.272983</td>\n",
       "      <td>1.123571</td>\n",
       "      <td>0.036322</td>\n",
       "      <td>0.910045</td>\n",
       "    </tr>\n",
       "    <tr>\n",
       "      <th>2024-05-04</th>\n",
       "      <td>-0.355904</td>\n",
       "      <td>-2.284629</td>\n",
       "      <td>1.665413</td>\n",
       "      <td>-2.040710</td>\n",
       "    </tr>\n",
       "  </tbody>\n",
       "</table>\n",
       "</div>"
      ],
      "text/plain": [
       "                   A         B         C         D\n",
       "2024-04-29 -0.168160 -0.565237  1.167155 -0.065497\n",
       "2024-04-30 -0.587345  0.340813 -0.484779  0.126839\n",
       "2024-05-01  0.741808  0.731895  0.395799 -0.441426\n",
       "2024-05-02  0.719509 -0.074094 -0.599280 -0.260872\n",
       "2024-05-03  0.272983  1.123571  0.036322  0.910045\n",
       "2024-05-04 -0.355904 -2.284629  1.665413 -2.040710"
      ]
     },
     "execution_count": 21,
     "metadata": {},
     "output_type": "execute_result"
    }
   ],
   "source": [
    "df = pd.DataFrame(np.random.randn(6,4), index=datas, columns=['A','B','C','D'])\n",
    "df"
   ]
  },
  {
   "cell_type": "markdown",
   "metadata": {},
   "source": [
    "## Visualização dos Dados"
   ]
  },
  {
   "cell_type": "code",
   "execution_count": 22,
   "metadata": {},
   "outputs": [
    {
     "data": {
      "text/html": [
       "<div>\n",
       "<style scoped>\n",
       "    .dataframe tbody tr th:only-of-type {\n",
       "        vertical-align: middle;\n",
       "    }\n",
       "\n",
       "    .dataframe tbody tr th {\n",
       "        vertical-align: top;\n",
       "    }\n",
       "\n",
       "    .dataframe thead th {\n",
       "        text-align: right;\n",
       "    }\n",
       "</style>\n",
       "<table border=\"1\" class=\"dataframe\">\n",
       "  <thead>\n",
       "    <tr style=\"text-align: right;\">\n",
       "      <th></th>\n",
       "      <th>A</th>\n",
       "      <th>B</th>\n",
       "      <th>C</th>\n",
       "      <th>D</th>\n",
       "    </tr>\n",
       "  </thead>\n",
       "  <tbody>\n",
       "    <tr>\n",
       "      <th>2024-04-29</th>\n",
       "      <td>0.984348</td>\n",
       "      <td>0.498364</td>\n",
       "      <td>-0.346529</td>\n",
       "      <td>1.275283</td>\n",
       "    </tr>\n",
       "    <tr>\n",
       "      <th>2024-04-30</th>\n",
       "      <td>0.431154</td>\n",
       "      <td>0.464353</td>\n",
       "      <td>0.269679</td>\n",
       "      <td>0.749050</td>\n",
       "    </tr>\n",
       "    <tr>\n",
       "      <th>2024-05-01</th>\n",
       "      <td>0.869836</td>\n",
       "      <td>0.563484</td>\n",
       "      <td>0.128021</td>\n",
       "      <td>0.570672</td>\n",
       "    </tr>\n",
       "    <tr>\n",
       "      <th>2024-05-02</th>\n",
       "      <td>-0.466164</td>\n",
       "      <td>0.301073</td>\n",
       "      <td>-0.996330</td>\n",
       "      <td>0.590736</td>\n",
       "    </tr>\n",
       "    <tr>\n",
       "      <th>2024-05-03</th>\n",
       "      <td>1.960167</td>\n",
       "      <td>-0.528330</td>\n",
       "      <td>1.853066</td>\n",
       "      <td>-0.120482</td>\n",
       "    </tr>\n",
       "    <tr>\n",
       "      <th>...</th>\n",
       "      <td>...</td>\n",
       "      <td>...</td>\n",
       "      <td>...</td>\n",
       "      <td>...</td>\n",
       "    </tr>\n",
       "    <tr>\n",
       "      <th>2027-01-19</th>\n",
       "      <td>-0.099883</td>\n",
       "      <td>-1.152928</td>\n",
       "      <td>-0.449100</td>\n",
       "      <td>-1.783499</td>\n",
       "    </tr>\n",
       "    <tr>\n",
       "      <th>2027-01-20</th>\n",
       "      <td>1.337764</td>\n",
       "      <td>1.295224</td>\n",
       "      <td>0.487354</td>\n",
       "      <td>1.129909</td>\n",
       "    </tr>\n",
       "    <tr>\n",
       "      <th>2027-01-21</th>\n",
       "      <td>2.527033</td>\n",
       "      <td>-0.515169</td>\n",
       "      <td>0.066117</td>\n",
       "      <td>-0.141109</td>\n",
       "    </tr>\n",
       "    <tr>\n",
       "      <th>2027-01-22</th>\n",
       "      <td>-1.568258</td>\n",
       "      <td>-0.500075</td>\n",
       "      <td>-1.999791</td>\n",
       "      <td>1.116213</td>\n",
       "    </tr>\n",
       "    <tr>\n",
       "      <th>2027-01-23</th>\n",
       "      <td>1.018223</td>\n",
       "      <td>-0.307770</td>\n",
       "      <td>-0.764219</td>\n",
       "      <td>0.804379</td>\n",
       "    </tr>\n",
       "  </tbody>\n",
       "</table>\n",
       "<p>1000 rows × 4 columns</p>\n",
       "</div>"
      ],
      "text/plain": [
       "                   A         B         C         D\n",
       "2024-04-29  0.984348  0.498364 -0.346529  1.275283\n",
       "2024-04-30  0.431154  0.464353  0.269679  0.749050\n",
       "2024-05-01  0.869836  0.563484  0.128021  0.570672\n",
       "2024-05-02 -0.466164  0.301073 -0.996330  0.590736\n",
       "2024-05-03  1.960167 -0.528330  1.853066 -0.120482\n",
       "...              ...       ...       ...       ...\n",
       "2027-01-19 -0.099883 -1.152928 -0.449100 -1.783499\n",
       "2027-01-20  1.337764  1.295224  0.487354  1.129909\n",
       "2027-01-21  2.527033 -0.515169  0.066117 -0.141109\n",
       "2027-01-22 -1.568258 -0.500075 -1.999791  1.116213\n",
       "2027-01-23  1.018223 -0.307770 -0.764219  0.804379\n",
       "\n",
       "[1000 rows x 4 columns]"
      ]
     },
     "execution_count": 22,
     "metadata": {},
     "output_type": "execute_result"
    }
   ],
   "source": [
    "datas = pd.date_range(start='2024-04-29', periods=1000)\n",
    "\n",
    "df = pd.DataFrame(np.random.randn(1000,4), index=datas, \n",
    "                  columns=['A','B','C','D'])\n",
    "df"
   ]
  },
  {
   "cell_type": "code",
   "execution_count": 23,
   "metadata": {},
   "outputs": [
    {
     "data": {
      "text/html": [
       "<div>\n",
       "<style scoped>\n",
       "    .dataframe tbody tr th:only-of-type {\n",
       "        vertical-align: middle;\n",
       "    }\n",
       "\n",
       "    .dataframe tbody tr th {\n",
       "        vertical-align: top;\n",
       "    }\n",
       "\n",
       "    .dataframe thead th {\n",
       "        text-align: right;\n",
       "    }\n",
       "</style>\n",
       "<table border=\"1\" class=\"dataframe\">\n",
       "  <thead>\n",
       "    <tr style=\"text-align: right;\">\n",
       "      <th></th>\n",
       "      <th>A</th>\n",
       "      <th>B</th>\n",
       "      <th>C</th>\n",
       "      <th>D</th>\n",
       "    </tr>\n",
       "  </thead>\n",
       "  <tbody>\n",
       "    <tr>\n",
       "      <th>2024-04-29</th>\n",
       "      <td>0.984348</td>\n",
       "      <td>0.498364</td>\n",
       "      <td>-0.346529</td>\n",
       "      <td>1.275283</td>\n",
       "    </tr>\n",
       "    <tr>\n",
       "      <th>2024-04-30</th>\n",
       "      <td>0.431154</td>\n",
       "      <td>0.464353</td>\n",
       "      <td>0.269679</td>\n",
       "      <td>0.749050</td>\n",
       "    </tr>\n",
       "    <tr>\n",
       "      <th>2024-05-01</th>\n",
       "      <td>0.869836</td>\n",
       "      <td>0.563484</td>\n",
       "      <td>0.128021</td>\n",
       "      <td>0.570672</td>\n",
       "    </tr>\n",
       "    <tr>\n",
       "      <th>2024-05-02</th>\n",
       "      <td>-0.466164</td>\n",
       "      <td>0.301073</td>\n",
       "      <td>-0.996330</td>\n",
       "      <td>0.590736</td>\n",
       "    </tr>\n",
       "    <tr>\n",
       "      <th>2024-05-03</th>\n",
       "      <td>1.960167</td>\n",
       "      <td>-0.528330</td>\n",
       "      <td>1.853066</td>\n",
       "      <td>-0.120482</td>\n",
       "    </tr>\n",
       "  </tbody>\n",
       "</table>\n",
       "</div>"
      ],
      "text/plain": [
       "                   A         B         C         D\n",
       "2024-04-29  0.984348  0.498364 -0.346529  1.275283\n",
       "2024-04-30  0.431154  0.464353  0.269679  0.749050\n",
       "2024-05-01  0.869836  0.563484  0.128021  0.570672\n",
       "2024-05-02 -0.466164  0.301073 -0.996330  0.590736\n",
       "2024-05-03  1.960167 -0.528330  1.853066 -0.120482"
      ]
     },
     "execution_count": 23,
     "metadata": {},
     "output_type": "execute_result"
    }
   ],
   "source": [
    "df.head()"
   ]
  },
  {
   "cell_type": "code",
   "execution_count": 24,
   "metadata": {},
   "outputs": [
    {
     "data": {
      "text/html": [
       "<div>\n",
       "<style scoped>\n",
       "    .dataframe tbody tr th:only-of-type {\n",
       "        vertical-align: middle;\n",
       "    }\n",
       "\n",
       "    .dataframe tbody tr th {\n",
       "        vertical-align: top;\n",
       "    }\n",
       "\n",
       "    .dataframe thead th {\n",
       "        text-align: right;\n",
       "    }\n",
       "</style>\n",
       "<table border=\"1\" class=\"dataframe\">\n",
       "  <thead>\n",
       "    <tr style=\"text-align: right;\">\n",
       "      <th></th>\n",
       "      <th>A</th>\n",
       "      <th>B</th>\n",
       "      <th>C</th>\n",
       "      <th>D</th>\n",
       "    </tr>\n",
       "  </thead>\n",
       "  <tbody>\n",
       "    <tr>\n",
       "      <th>2027-01-19</th>\n",
       "      <td>-0.099883</td>\n",
       "      <td>-1.152928</td>\n",
       "      <td>-0.449100</td>\n",
       "      <td>-1.783499</td>\n",
       "    </tr>\n",
       "    <tr>\n",
       "      <th>2027-01-20</th>\n",
       "      <td>1.337764</td>\n",
       "      <td>1.295224</td>\n",
       "      <td>0.487354</td>\n",
       "      <td>1.129909</td>\n",
       "    </tr>\n",
       "    <tr>\n",
       "      <th>2027-01-21</th>\n",
       "      <td>2.527033</td>\n",
       "      <td>-0.515169</td>\n",
       "      <td>0.066117</td>\n",
       "      <td>-0.141109</td>\n",
       "    </tr>\n",
       "    <tr>\n",
       "      <th>2027-01-22</th>\n",
       "      <td>-1.568258</td>\n",
       "      <td>-0.500075</td>\n",
       "      <td>-1.999791</td>\n",
       "      <td>1.116213</td>\n",
       "    </tr>\n",
       "    <tr>\n",
       "      <th>2027-01-23</th>\n",
       "      <td>1.018223</td>\n",
       "      <td>-0.307770</td>\n",
       "      <td>-0.764219</td>\n",
       "      <td>0.804379</td>\n",
       "    </tr>\n",
       "  </tbody>\n",
       "</table>\n",
       "</div>"
      ],
      "text/plain": [
       "                   A         B         C         D\n",
       "2027-01-19 -0.099883 -1.152928 -0.449100 -1.783499\n",
       "2027-01-20  1.337764  1.295224  0.487354  1.129909\n",
       "2027-01-21  2.527033 -0.515169  0.066117 -0.141109\n",
       "2027-01-22 -1.568258 -0.500075 -1.999791  1.116213\n",
       "2027-01-23  1.018223 -0.307770 -0.764219  0.804379"
      ]
     },
     "execution_count": 24,
     "metadata": {},
     "output_type": "execute_result"
    }
   ],
   "source": [
    "df.tail()"
   ]
  },
  {
   "cell_type": "code",
   "execution_count": 25,
   "metadata": {},
   "outputs": [
    {
     "data": {
      "text/plain": [
       "DatetimeIndex(['2024-04-29', '2024-04-30', '2024-05-01', '2024-05-02',\n",
       "               '2024-05-03', '2024-05-04', '2024-05-05', '2024-05-06',\n",
       "               '2024-05-07', '2024-05-08',\n",
       "               ...\n",
       "               '2027-01-14', '2027-01-15', '2027-01-16', '2027-01-17',\n",
       "               '2027-01-18', '2027-01-19', '2027-01-20', '2027-01-21',\n",
       "               '2027-01-22', '2027-01-23'],\n",
       "              dtype='datetime64[ns]', length=1000, freq='D')"
      ]
     },
     "execution_count": 25,
     "metadata": {},
     "output_type": "execute_result"
    }
   ],
   "source": [
    "df.index"
   ]
  },
  {
   "cell_type": "code",
   "execution_count": 26,
   "metadata": {},
   "outputs": [
    {
     "data": {
      "text/plain": [
       "Index(['A', 'B', 'C', 'D'], dtype='object')"
      ]
     },
     "execution_count": 26,
     "metadata": {},
     "output_type": "execute_result"
    }
   ],
   "source": [
    "df.columns"
   ]
  },
  {
   "cell_type": "code",
   "execution_count": 27,
   "metadata": {},
   "outputs": [
    {
     "data": {
      "text/plain": [
       "array([[ 0.98434805,  0.49836403, -0.34652881,  1.27528276],\n",
       "       [ 0.43115383,  0.46435348,  0.26967935,  0.74904965],\n",
       "       [ 0.86983563,  0.56348388,  0.1280206 ,  0.57067181],\n",
       "       ...,\n",
       "       [ 2.52703305, -0.51516858,  0.06611704, -0.14110908],\n",
       "       [-1.56825818, -0.50007494, -1.99979061,  1.11621262],\n",
       "       [ 1.01822288, -0.30777044, -0.76421947,  0.80437882]])"
      ]
     },
     "execution_count": 27,
     "metadata": {},
     "output_type": "execute_result"
    }
   ],
   "source": [
    "df.values"
   ]
  },
  {
   "cell_type": "code",
   "execution_count": 28,
   "metadata": {},
   "outputs": [
    {
     "data": {
      "text/html": [
       "<div>\n",
       "<style scoped>\n",
       "    .dataframe tbody tr th:only-of-type {\n",
       "        vertical-align: middle;\n",
       "    }\n",
       "\n",
       "    .dataframe tbody tr th {\n",
       "        vertical-align: top;\n",
       "    }\n",
       "\n",
       "    .dataframe thead th {\n",
       "        text-align: right;\n",
       "    }\n",
       "</style>\n",
       "<table border=\"1\" class=\"dataframe\">\n",
       "  <thead>\n",
       "    <tr style=\"text-align: right;\">\n",
       "      <th></th>\n",
       "      <th>A</th>\n",
       "      <th>B</th>\n",
       "      <th>C</th>\n",
       "      <th>D</th>\n",
       "    </tr>\n",
       "  </thead>\n",
       "  <tbody>\n",
       "    <tr>\n",
       "      <th>count</th>\n",
       "      <td>1000.000000</td>\n",
       "      <td>1000.000000</td>\n",
       "      <td>1000.000000</td>\n",
       "      <td>1000.000000</td>\n",
       "    </tr>\n",
       "    <tr>\n",
       "      <th>mean</th>\n",
       "      <td>-0.058956</td>\n",
       "      <td>0.017888</td>\n",
       "      <td>-0.035676</td>\n",
       "      <td>0.004023</td>\n",
       "    </tr>\n",
       "    <tr>\n",
       "      <th>std</th>\n",
       "      <td>0.984004</td>\n",
       "      <td>1.005267</td>\n",
       "      <td>1.001203</td>\n",
       "      <td>0.982923</td>\n",
       "    </tr>\n",
       "    <tr>\n",
       "      <th>min</th>\n",
       "      <td>-3.280374</td>\n",
       "      <td>-3.153217</td>\n",
       "      <td>-3.254734</td>\n",
       "      <td>-3.514855</td>\n",
       "    </tr>\n",
       "    <tr>\n",
       "      <th>25%</th>\n",
       "      <td>-0.708013</td>\n",
       "      <td>-0.648334</td>\n",
       "      <td>-0.714357</td>\n",
       "      <td>-0.670797</td>\n",
       "    </tr>\n",
       "    <tr>\n",
       "      <th>50%</th>\n",
       "      <td>-0.128334</td>\n",
       "      <td>0.019366</td>\n",
       "      <td>-0.047646</td>\n",
       "      <td>0.003760</td>\n",
       "    </tr>\n",
       "    <tr>\n",
       "      <th>75%</th>\n",
       "      <td>0.616637</td>\n",
       "      <td>0.698968</td>\n",
       "      <td>0.665527</td>\n",
       "      <td>0.682718</td>\n",
       "    </tr>\n",
       "    <tr>\n",
       "      <th>max</th>\n",
       "      <td>3.443922</td>\n",
       "      <td>3.458587</td>\n",
       "      <td>2.731930</td>\n",
       "      <td>3.018946</td>\n",
       "    </tr>\n",
       "  </tbody>\n",
       "</table>\n",
       "</div>"
      ],
      "text/plain": [
       "                 A            B            C            D\n",
       "count  1000.000000  1000.000000  1000.000000  1000.000000\n",
       "mean     -0.058956     0.017888    -0.035676     0.004023\n",
       "std       0.984004     1.005267     1.001203     0.982923\n",
       "min      -3.280374    -3.153217    -3.254734    -3.514855\n",
       "25%      -0.708013    -0.648334    -0.714357    -0.670797\n",
       "50%      -0.128334     0.019366    -0.047646     0.003760\n",
       "75%       0.616637     0.698968     0.665527     0.682718\n",
       "max       3.443922     3.458587     2.731930     3.018946"
      ]
     },
     "execution_count": 28,
     "metadata": {},
     "output_type": "execute_result"
    }
   ],
   "source": [
    "# Estatísticas rápidas\n",
    "df.describe()"
   ]
  },
  {
   "cell_type": "code",
   "execution_count": 29,
   "metadata": {},
   "outputs": [
    {
     "name": "stdout",
     "output_type": "stream",
     "text": [
      "<class 'pandas.core.frame.DataFrame'>\n",
      "DatetimeIndex: 1000 entries, 2024-04-29 to 2027-01-23\n",
      "Freq: D\n",
      "Data columns (total 4 columns):\n",
      " #   Column  Non-Null Count  Dtype  \n",
      "---  ------  --------------  -----  \n",
      " 0   A       1000 non-null   float64\n",
      " 1   B       1000 non-null   float64\n",
      " 2   C       1000 non-null   float64\n",
      " 3   D       1000 non-null   float64\n",
      "dtypes: float64(4)\n",
      "memory usage: 39.1 KB\n"
     ]
    }
   ],
   "source": [
    "df.info()"
   ]
  },
  {
   "cell_type": "code",
   "execution_count": 30,
   "metadata": {},
   "outputs": [
    {
     "data": {
      "text/html": [
       "<div>\n",
       "<style scoped>\n",
       "    .dataframe tbody tr th:only-of-type {\n",
       "        vertical-align: middle;\n",
       "    }\n",
       "\n",
       "    .dataframe tbody tr th {\n",
       "        vertical-align: top;\n",
       "    }\n",
       "\n",
       "    .dataframe thead th {\n",
       "        text-align: right;\n",
       "    }\n",
       "</style>\n",
       "<table border=\"1\" class=\"dataframe\">\n",
       "  <thead>\n",
       "    <tr style=\"text-align: right;\">\n",
       "      <th></th>\n",
       "      <th>D</th>\n",
       "      <th>C</th>\n",
       "      <th>B</th>\n",
       "      <th>A</th>\n",
       "    </tr>\n",
       "  </thead>\n",
       "  <tbody>\n",
       "    <tr>\n",
       "      <th>2024-04-29</th>\n",
       "      <td>1.275283</td>\n",
       "      <td>-0.346529</td>\n",
       "      <td>0.498364</td>\n",
       "      <td>0.984348</td>\n",
       "    </tr>\n",
       "    <tr>\n",
       "      <th>2024-04-30</th>\n",
       "      <td>0.749050</td>\n",
       "      <td>0.269679</td>\n",
       "      <td>0.464353</td>\n",
       "      <td>0.431154</td>\n",
       "    </tr>\n",
       "    <tr>\n",
       "      <th>2024-05-01</th>\n",
       "      <td>0.570672</td>\n",
       "      <td>0.128021</td>\n",
       "      <td>0.563484</td>\n",
       "      <td>0.869836</td>\n",
       "    </tr>\n",
       "    <tr>\n",
       "      <th>2024-05-02</th>\n",
       "      <td>0.590736</td>\n",
       "      <td>-0.996330</td>\n",
       "      <td>0.301073</td>\n",
       "      <td>-0.466164</td>\n",
       "    </tr>\n",
       "    <tr>\n",
       "      <th>2024-05-03</th>\n",
       "      <td>-0.120482</td>\n",
       "      <td>1.853066</td>\n",
       "      <td>-0.528330</td>\n",
       "      <td>1.960167</td>\n",
       "    </tr>\n",
       "    <tr>\n",
       "      <th>...</th>\n",
       "      <td>...</td>\n",
       "      <td>...</td>\n",
       "      <td>...</td>\n",
       "      <td>...</td>\n",
       "    </tr>\n",
       "    <tr>\n",
       "      <th>2027-01-19</th>\n",
       "      <td>-1.783499</td>\n",
       "      <td>-0.449100</td>\n",
       "      <td>-1.152928</td>\n",
       "      <td>-0.099883</td>\n",
       "    </tr>\n",
       "    <tr>\n",
       "      <th>2027-01-20</th>\n",
       "      <td>1.129909</td>\n",
       "      <td>0.487354</td>\n",
       "      <td>1.295224</td>\n",
       "      <td>1.337764</td>\n",
       "    </tr>\n",
       "    <tr>\n",
       "      <th>2027-01-21</th>\n",
       "      <td>-0.141109</td>\n",
       "      <td>0.066117</td>\n",
       "      <td>-0.515169</td>\n",
       "      <td>2.527033</td>\n",
       "    </tr>\n",
       "    <tr>\n",
       "      <th>2027-01-22</th>\n",
       "      <td>1.116213</td>\n",
       "      <td>-1.999791</td>\n",
       "      <td>-0.500075</td>\n",
       "      <td>-1.568258</td>\n",
       "    </tr>\n",
       "    <tr>\n",
       "      <th>2027-01-23</th>\n",
       "      <td>0.804379</td>\n",
       "      <td>-0.764219</td>\n",
       "      <td>-0.307770</td>\n",
       "      <td>1.018223</td>\n",
       "    </tr>\n",
       "  </tbody>\n",
       "</table>\n",
       "<p>1000 rows × 4 columns</p>\n",
       "</div>"
      ],
      "text/plain": [
       "                   D         C         B         A\n",
       "2024-04-29  1.275283 -0.346529  0.498364  0.984348\n",
       "2024-04-30  0.749050  0.269679  0.464353  0.431154\n",
       "2024-05-01  0.570672  0.128021  0.563484  0.869836\n",
       "2024-05-02  0.590736 -0.996330  0.301073 -0.466164\n",
       "2024-05-03 -0.120482  1.853066 -0.528330  1.960167\n",
       "...              ...       ...       ...       ...\n",
       "2027-01-19 -1.783499 -0.449100 -1.152928 -0.099883\n",
       "2027-01-20  1.129909  0.487354  1.295224  1.337764\n",
       "2027-01-21 -0.141109  0.066117 -0.515169  2.527033\n",
       "2027-01-22  1.116213 -1.999791 -0.500075 -1.568258\n",
       "2027-01-23  0.804379 -0.764219 -0.307770  1.018223\n",
       "\n",
       "[1000 rows x 4 columns]"
      ]
     },
     "execution_count": 30,
     "metadata": {},
     "output_type": "execute_result"
    }
   ],
   "source": [
    "# Ordenamento: ordenar pelo índice (linhas ou coluna) não valores da tabela\n",
    "df.sort_index(axis=1, ascending=False)"
   ]
  },
  {
   "cell_type": "code",
   "execution_count": 31,
   "metadata": {},
   "outputs": [
    {
     "data": {
      "text/html": [
       "<div>\n",
       "<style scoped>\n",
       "    .dataframe tbody tr th:only-of-type {\n",
       "        vertical-align: middle;\n",
       "    }\n",
       "\n",
       "    .dataframe tbody tr th {\n",
       "        vertical-align: top;\n",
       "    }\n",
       "\n",
       "    .dataframe thead th {\n",
       "        text-align: right;\n",
       "    }\n",
       "</style>\n",
       "<table border=\"1\" class=\"dataframe\">\n",
       "  <thead>\n",
       "    <tr style=\"text-align: right;\">\n",
       "      <th></th>\n",
       "      <th>A</th>\n",
       "      <th>B</th>\n",
       "      <th>C</th>\n",
       "      <th>D</th>\n",
       "    </tr>\n",
       "  </thead>\n",
       "  <tbody>\n",
       "    <tr>\n",
       "      <th>2025-12-23</th>\n",
       "      <td>-2.229831</td>\n",
       "      <td>-3.153217</td>\n",
       "      <td>0.389361</td>\n",
       "      <td>0.550781</td>\n",
       "    </tr>\n",
       "    <tr>\n",
       "      <th>2026-05-21</th>\n",
       "      <td>-0.358114</td>\n",
       "      <td>-3.020372</td>\n",
       "      <td>-0.839290</td>\n",
       "      <td>-0.680865</td>\n",
       "    </tr>\n",
       "    <tr>\n",
       "      <th>2026-10-15</th>\n",
       "      <td>-0.619013</td>\n",
       "      <td>-2.896372</td>\n",
       "      <td>1.863897</td>\n",
       "      <td>-0.895061</td>\n",
       "    </tr>\n",
       "    <tr>\n",
       "      <th>2024-07-28</th>\n",
       "      <td>0.185192</td>\n",
       "      <td>-2.772061</td>\n",
       "      <td>-0.562067</td>\n",
       "      <td>-0.012560</td>\n",
       "    </tr>\n",
       "    <tr>\n",
       "      <th>2025-02-05</th>\n",
       "      <td>-0.308159</td>\n",
       "      <td>-2.743601</td>\n",
       "      <td>0.282102</td>\n",
       "      <td>0.570724</td>\n",
       "    </tr>\n",
       "    <tr>\n",
       "      <th>...</th>\n",
       "      <td>...</td>\n",
       "      <td>...</td>\n",
       "      <td>...</td>\n",
       "      <td>...</td>\n",
       "    </tr>\n",
       "    <tr>\n",
       "      <th>2026-12-21</th>\n",
       "      <td>-1.372792</td>\n",
       "      <td>2.587988</td>\n",
       "      <td>-0.407993</td>\n",
       "      <td>0.539855</td>\n",
       "    </tr>\n",
       "    <tr>\n",
       "      <th>2024-05-07</th>\n",
       "      <td>1.131431</td>\n",
       "      <td>2.611387</td>\n",
       "      <td>1.078156</td>\n",
       "      <td>1.332684</td>\n",
       "    </tr>\n",
       "    <tr>\n",
       "      <th>2026-05-15</th>\n",
       "      <td>-0.011457</td>\n",
       "      <td>2.847324</td>\n",
       "      <td>1.170250</td>\n",
       "      <td>0.851717</td>\n",
       "    </tr>\n",
       "    <tr>\n",
       "      <th>2026-12-05</th>\n",
       "      <td>-0.094823</td>\n",
       "      <td>2.849228</td>\n",
       "      <td>-0.398903</td>\n",
       "      <td>2.575331</td>\n",
       "    </tr>\n",
       "    <tr>\n",
       "      <th>2025-05-22</th>\n",
       "      <td>1.129988</td>\n",
       "      <td>3.458587</td>\n",
       "      <td>-0.922896</td>\n",
       "      <td>1.085478</td>\n",
       "    </tr>\n",
       "  </tbody>\n",
       "</table>\n",
       "<p>1000 rows × 4 columns</p>\n",
       "</div>"
      ],
      "text/plain": [
       "                   A         B         C         D\n",
       "2025-12-23 -2.229831 -3.153217  0.389361  0.550781\n",
       "2026-05-21 -0.358114 -3.020372 -0.839290 -0.680865\n",
       "2026-10-15 -0.619013 -2.896372  1.863897 -0.895061\n",
       "2024-07-28  0.185192 -2.772061 -0.562067 -0.012560\n",
       "2025-02-05 -0.308159 -2.743601  0.282102  0.570724\n",
       "...              ...       ...       ...       ...\n",
       "2026-12-21 -1.372792  2.587988 -0.407993  0.539855\n",
       "2024-05-07  1.131431  2.611387  1.078156  1.332684\n",
       "2026-05-15 -0.011457  2.847324  1.170250  0.851717\n",
       "2026-12-05 -0.094823  2.849228 -0.398903  2.575331\n",
       "2025-05-22  1.129988  3.458587 -0.922896  1.085478\n",
       "\n",
       "[1000 rows x 4 columns]"
      ]
     },
     "execution_count": 31,
     "metadata": {},
     "output_type": "execute_result"
    }
   ],
   "source": [
    "df.sort_values(by='B')"
   ]
  },
  {
   "cell_type": "markdown",
   "metadata": {},
   "source": [
    "## Selecionando dados"
   ]
  },
  {
   "cell_type": "code",
   "execution_count": 32,
   "metadata": {},
   "outputs": [
    {
     "data": {
      "text/plain": [
       "DatetimeIndex(['2024-04-29', '2024-04-30', '2024-05-01', '2024-05-02',\n",
       "               '2024-05-03', '2024-05-04', '2024-05-05', '2024-05-06',\n",
       "               '2024-05-07', '2024-05-08',\n",
       "               ...\n",
       "               '2027-01-14', '2027-01-15', '2027-01-16', '2027-01-17',\n",
       "               '2027-01-18', '2027-01-19', '2027-01-20', '2027-01-21',\n",
       "               '2027-01-22', '2027-01-23'],\n",
       "              dtype='datetime64[ns]', length=1000, freq='D')"
      ]
     },
     "execution_count": 32,
     "metadata": {},
     "output_type": "execute_result"
    }
   ],
   "source": [
    "datas"
   ]
  },
  {
   "cell_type": "code",
   "execution_count": 33,
   "metadata": {},
   "outputs": [
    {
     "data": {
      "text/html": [
       "<div>\n",
       "<style scoped>\n",
       "    .dataframe tbody tr th:only-of-type {\n",
       "        vertical-align: middle;\n",
       "    }\n",
       "\n",
       "    .dataframe tbody tr th {\n",
       "        vertical-align: top;\n",
       "    }\n",
       "\n",
       "    .dataframe thead th {\n",
       "        text-align: right;\n",
       "    }\n",
       "</style>\n",
       "<table border=\"1\" class=\"dataframe\">\n",
       "  <thead>\n",
       "    <tr style=\"text-align: right;\">\n",
       "      <th></th>\n",
       "      <th>A</th>\n",
       "      <th>B</th>\n",
       "      <th>C</th>\n",
       "      <th>D</th>\n",
       "    </tr>\n",
       "  </thead>\n",
       "  <tbody>\n",
       "    <tr>\n",
       "      <th>2024-04-29</th>\n",
       "      <td>0.984348</td>\n",
       "      <td>0.498364</td>\n",
       "      <td>-0.346529</td>\n",
       "      <td>1.275283</td>\n",
       "    </tr>\n",
       "    <tr>\n",
       "      <th>2024-04-30</th>\n",
       "      <td>0.431154</td>\n",
       "      <td>0.464353</td>\n",
       "      <td>0.269679</td>\n",
       "      <td>0.749050</td>\n",
       "    </tr>\n",
       "    <tr>\n",
       "      <th>2024-05-01</th>\n",
       "      <td>0.869836</td>\n",
       "      <td>0.563484</td>\n",
       "      <td>0.128021</td>\n",
       "      <td>0.570672</td>\n",
       "    </tr>\n",
       "    <tr>\n",
       "      <th>2024-05-02</th>\n",
       "      <td>-0.466164</td>\n",
       "      <td>0.301073</td>\n",
       "      <td>-0.996330</td>\n",
       "      <td>0.590736</td>\n",
       "    </tr>\n",
       "    <tr>\n",
       "      <th>2024-05-03</th>\n",
       "      <td>1.960167</td>\n",
       "      <td>-0.528330</td>\n",
       "      <td>1.853066</td>\n",
       "      <td>-0.120482</td>\n",
       "    </tr>\n",
       "    <tr>\n",
       "      <th>...</th>\n",
       "      <td>...</td>\n",
       "      <td>...</td>\n",
       "      <td>...</td>\n",
       "      <td>...</td>\n",
       "    </tr>\n",
       "    <tr>\n",
       "      <th>2027-01-19</th>\n",
       "      <td>-0.099883</td>\n",
       "      <td>-1.152928</td>\n",
       "      <td>-0.449100</td>\n",
       "      <td>-1.783499</td>\n",
       "    </tr>\n",
       "    <tr>\n",
       "      <th>2027-01-20</th>\n",
       "      <td>1.337764</td>\n",
       "      <td>1.295224</td>\n",
       "      <td>0.487354</td>\n",
       "      <td>1.129909</td>\n",
       "    </tr>\n",
       "    <tr>\n",
       "      <th>2027-01-21</th>\n",
       "      <td>2.527033</td>\n",
       "      <td>-0.515169</td>\n",
       "      <td>0.066117</td>\n",
       "      <td>-0.141109</td>\n",
       "    </tr>\n",
       "    <tr>\n",
       "      <th>2027-01-22</th>\n",
       "      <td>-1.568258</td>\n",
       "      <td>-0.500075</td>\n",
       "      <td>-1.999791</td>\n",
       "      <td>1.116213</td>\n",
       "    </tr>\n",
       "    <tr>\n",
       "      <th>2027-01-23</th>\n",
       "      <td>1.018223</td>\n",
       "      <td>-0.307770</td>\n",
       "      <td>-0.764219</td>\n",
       "      <td>0.804379</td>\n",
       "    </tr>\n",
       "  </tbody>\n",
       "</table>\n",
       "<p>1000 rows × 4 columns</p>\n",
       "</div>"
      ],
      "text/plain": [
       "                   A         B         C         D\n",
       "2024-04-29  0.984348  0.498364 -0.346529  1.275283\n",
       "2024-04-30  0.431154  0.464353  0.269679  0.749050\n",
       "2024-05-01  0.869836  0.563484  0.128021  0.570672\n",
       "2024-05-02 -0.466164  0.301073 -0.996330  0.590736\n",
       "2024-05-03  1.960167 -0.528330  1.853066 -0.120482\n",
       "...              ...       ...       ...       ...\n",
       "2027-01-19 -0.099883 -1.152928 -0.449100 -1.783499\n",
       "2027-01-20  1.337764  1.295224  0.487354  1.129909\n",
       "2027-01-21  2.527033 -0.515169  0.066117 -0.141109\n",
       "2027-01-22 -1.568258 -0.500075 -1.999791  1.116213\n",
       "2027-01-23  1.018223 -0.307770 -0.764219  0.804379\n",
       "\n",
       "[1000 rows x 4 columns]"
      ]
     },
     "execution_count": 33,
     "metadata": {},
     "output_type": "execute_result"
    }
   ],
   "source": [
    "df"
   ]
  },
  {
   "cell_type": "code",
   "execution_count": 34,
   "metadata": {},
   "outputs": [
    {
     "data": {
      "text/plain": [
       "A    0.984348\n",
       "B    0.498364\n",
       "C   -0.346529\n",
       "D    1.275283\n",
       "Name: 2024-04-29 00:00:00, dtype: float64"
      ]
     },
     "execution_count": 34,
     "metadata": {},
     "output_type": "execute_result"
    }
   ],
   "source": [
    "# Seleção usando um rótulo\n",
    "data = datas[0]\n",
    "df.loc[data]"
   ]
  },
  {
   "cell_type": "code",
   "execution_count": 35,
   "metadata": {},
   "outputs": [
    {
     "data": {
      "text/plain": [
       "A    0.984348\n",
       "C   -0.346529\n",
       "Name: 2024-04-29 00:00:00, dtype: float64"
      ]
     },
     "execution_count": 35,
     "metadata": {},
     "output_type": "execute_result"
    }
   ],
   "source": [
    "df.loc[data,['A','C']]"
   ]
  },
  {
   "cell_type": "code",
   "execution_count": 36,
   "metadata": {},
   "outputs": [
    {
     "data": {
      "text/html": [
       "<div>\n",
       "<style scoped>\n",
       "    .dataframe tbody tr th:only-of-type {\n",
       "        vertical-align: middle;\n",
       "    }\n",
       "\n",
       "    .dataframe tbody tr th {\n",
       "        vertical-align: top;\n",
       "    }\n",
       "\n",
       "    .dataframe thead th {\n",
       "        text-align: right;\n",
       "    }\n",
       "</style>\n",
       "<table border=\"1\" class=\"dataframe\">\n",
       "  <thead>\n",
       "    <tr style=\"text-align: right;\">\n",
       "      <th></th>\n",
       "      <th>A</th>\n",
       "      <th>C</th>\n",
       "    </tr>\n",
       "  </thead>\n",
       "  <tbody>\n",
       "    <tr>\n",
       "      <th>2024-04-29</th>\n",
       "      <td>0.984348</td>\n",
       "      <td>-0.346529</td>\n",
       "    </tr>\n",
       "    <tr>\n",
       "      <th>2024-04-30</th>\n",
       "      <td>0.431154</td>\n",
       "      <td>0.269679</td>\n",
       "    </tr>\n",
       "    <tr>\n",
       "      <th>2024-05-01</th>\n",
       "      <td>0.869836</td>\n",
       "      <td>0.128021</td>\n",
       "    </tr>\n",
       "    <tr>\n",
       "      <th>2024-05-02</th>\n",
       "      <td>-0.466164</td>\n",
       "      <td>-0.996330</td>\n",
       "    </tr>\n",
       "    <tr>\n",
       "      <th>2024-05-03</th>\n",
       "      <td>1.960167</td>\n",
       "      <td>1.853066</td>\n",
       "    </tr>\n",
       "    <tr>\n",
       "      <th>...</th>\n",
       "      <td>...</td>\n",
       "      <td>...</td>\n",
       "    </tr>\n",
       "    <tr>\n",
       "      <th>2027-01-19</th>\n",
       "      <td>-0.099883</td>\n",
       "      <td>-0.449100</td>\n",
       "    </tr>\n",
       "    <tr>\n",
       "      <th>2027-01-20</th>\n",
       "      <td>1.337764</td>\n",
       "      <td>0.487354</td>\n",
       "    </tr>\n",
       "    <tr>\n",
       "      <th>2027-01-21</th>\n",
       "      <td>2.527033</td>\n",
       "      <td>0.066117</td>\n",
       "    </tr>\n",
       "    <tr>\n",
       "      <th>2027-01-22</th>\n",
       "      <td>-1.568258</td>\n",
       "      <td>-1.999791</td>\n",
       "    </tr>\n",
       "    <tr>\n",
       "      <th>2027-01-23</th>\n",
       "      <td>1.018223</td>\n",
       "      <td>-0.764219</td>\n",
       "    </tr>\n",
       "  </tbody>\n",
       "</table>\n",
       "<p>1000 rows × 2 columns</p>\n",
       "</div>"
      ],
      "text/plain": [
       "                   A         C\n",
       "2024-04-29  0.984348 -0.346529\n",
       "2024-04-30  0.431154  0.269679\n",
       "2024-05-01  0.869836  0.128021\n",
       "2024-05-02 -0.466164 -0.996330\n",
       "2024-05-03  1.960167  1.853066\n",
       "...              ...       ...\n",
       "2027-01-19 -0.099883 -0.449100\n",
       "2027-01-20  1.337764  0.487354\n",
       "2027-01-21  2.527033  0.066117\n",
       "2027-01-22 -1.568258 -1.999791\n",
       "2027-01-23  1.018223 -0.764219\n",
       "\n",
       "[1000 rows x 2 columns]"
      ]
     },
     "execution_count": 36,
     "metadata": {},
     "output_type": "execute_result"
    }
   ],
   "source": [
    "# Múltiplos eixos usando rótulo\n",
    "df.loc[:,['A','C']]"
   ]
  },
  {
   "cell_type": "code",
   "execution_count": 37,
   "metadata": {},
   "outputs": [
    {
     "data": {
      "text/html": [
       "<div>\n",
       "<style scoped>\n",
       "    .dataframe tbody tr th:only-of-type {\n",
       "        vertical-align: middle;\n",
       "    }\n",
       "\n",
       "    .dataframe tbody tr th {\n",
       "        vertical-align: top;\n",
       "    }\n",
       "\n",
       "    .dataframe thead th {\n",
       "        text-align: right;\n",
       "    }\n",
       "</style>\n",
       "<table border=\"1\" class=\"dataframe\">\n",
       "  <thead>\n",
       "    <tr style=\"text-align: right;\">\n",
       "      <th></th>\n",
       "      <th>A</th>\n",
       "      <th>B</th>\n",
       "      <th>C</th>\n",
       "      <th>D</th>\n",
       "    </tr>\n",
       "  </thead>\n",
       "  <tbody>\n",
       "    <tr>\n",
       "      <th>2024-04-29</th>\n",
       "      <td>0.984348</td>\n",
       "      <td>0.498364</td>\n",
       "      <td>-0.346529</td>\n",
       "      <td>1.275283</td>\n",
       "    </tr>\n",
       "    <tr>\n",
       "      <th>2024-04-30</th>\n",
       "      <td>0.431154</td>\n",
       "      <td>0.464353</td>\n",
       "      <td>0.269679</td>\n",
       "      <td>0.749050</td>\n",
       "    </tr>\n",
       "    <tr>\n",
       "      <th>2024-05-01</th>\n",
       "      <td>0.869836</td>\n",
       "      <td>0.563484</td>\n",
       "      <td>0.128021</td>\n",
       "      <td>0.570672</td>\n",
       "    </tr>\n",
       "    <tr>\n",
       "      <th>2024-05-02</th>\n",
       "      <td>-0.466164</td>\n",
       "      <td>0.301073</td>\n",
       "      <td>-0.996330</td>\n",
       "      <td>0.590736</td>\n",
       "    </tr>\n",
       "    <tr>\n",
       "      <th>2024-05-03</th>\n",
       "      <td>1.960167</td>\n",
       "      <td>-0.528330</td>\n",
       "      <td>1.853066</td>\n",
       "      <td>-0.120482</td>\n",
       "    </tr>\n",
       "  </tbody>\n",
       "</table>\n",
       "</div>"
      ],
      "text/plain": [
       "                   A         B         C         D\n",
       "2024-04-29  0.984348  0.498364 -0.346529  1.275283\n",
       "2024-04-30  0.431154  0.464353  0.269679  0.749050\n",
       "2024-05-01  0.869836  0.563484  0.128021  0.570672\n",
       "2024-05-02 -0.466164  0.301073 -0.996330  0.590736\n",
       "2024-05-03  1.960167 -0.528330  1.853066 -0.120482"
      ]
     },
     "execution_count": 37,
     "metadata": {},
     "output_type": "execute_result"
    }
   ],
   "source": [
    "df.head()"
   ]
  },
  {
   "cell_type": "code",
   "execution_count": 38,
   "metadata": {},
   "outputs": [
    {
     "data": {
      "text/plain": [
       "A   -0.466164\n",
       "B    0.301073\n",
       "C   -0.996330\n",
       "D    0.590736\n",
       "Name: 2024-05-02 00:00:00, dtype: float64"
      ]
     },
     "execution_count": 38,
     "metadata": {},
     "output_type": "execute_result"
    }
   ],
   "source": [
    "df.iloc[3]"
   ]
  },
  {
   "cell_type": "code",
   "execution_count": 39,
   "metadata": {},
   "outputs": [
    {
     "data": {
      "text/html": [
       "<div>\n",
       "<style scoped>\n",
       "    .dataframe tbody tr th:only-of-type {\n",
       "        vertical-align: middle;\n",
       "    }\n",
       "\n",
       "    .dataframe tbody tr th {\n",
       "        vertical-align: top;\n",
       "    }\n",
       "\n",
       "    .dataframe thead th {\n",
       "        text-align: right;\n",
       "    }\n",
       "</style>\n",
       "<table border=\"1\" class=\"dataframe\">\n",
       "  <thead>\n",
       "    <tr style=\"text-align: right;\">\n",
       "      <th></th>\n",
       "      <th>A</th>\n",
       "      <th>B</th>\n",
       "    </tr>\n",
       "  </thead>\n",
       "  <tbody>\n",
       "    <tr>\n",
       "      <th>2024-05-02</th>\n",
       "      <td>-0.466164</td>\n",
       "      <td>0.301073</td>\n",
       "    </tr>\n",
       "    <tr>\n",
       "      <th>2024-05-03</th>\n",
       "      <td>1.960167</td>\n",
       "      <td>-0.528330</td>\n",
       "    </tr>\n",
       "  </tbody>\n",
       "</table>\n",
       "</div>"
      ],
      "text/plain": [
       "                   A         B\n",
       "2024-05-02 -0.466164  0.301073\n",
       "2024-05-03  1.960167 -0.528330"
      ]
     },
     "execution_count": 39,
     "metadata": {},
     "output_type": "execute_result"
    }
   ],
   "source": [
    "df.iloc[3:5,0:2]"
   ]
  },
  {
   "cell_type": "code",
   "execution_count": 40,
   "metadata": {},
   "outputs": [
    {
     "data": {
      "text/html": [
       "<div>\n",
       "<style scoped>\n",
       "    .dataframe tbody tr th:only-of-type {\n",
       "        vertical-align: middle;\n",
       "    }\n",
       "\n",
       "    .dataframe tbody tr th {\n",
       "        vertical-align: top;\n",
       "    }\n",
       "\n",
       "    .dataframe thead th {\n",
       "        text-align: right;\n",
       "    }\n",
       "</style>\n",
       "<table border=\"1\" class=\"dataframe\">\n",
       "  <thead>\n",
       "    <tr style=\"text-align: right;\">\n",
       "      <th></th>\n",
       "      <th>A</th>\n",
       "      <th>B</th>\n",
       "      <th>C</th>\n",
       "      <th>D</th>\n",
       "    </tr>\n",
       "  </thead>\n",
       "  <tbody>\n",
       "    <tr>\n",
       "      <th>2024-04-29</th>\n",
       "      <td>0.984348</td>\n",
       "      <td>0.498364</td>\n",
       "      <td>NaN</td>\n",
       "      <td>1.275283</td>\n",
       "    </tr>\n",
       "    <tr>\n",
       "      <th>2024-04-30</th>\n",
       "      <td>0.431154</td>\n",
       "      <td>0.464353</td>\n",
       "      <td>0.269679</td>\n",
       "      <td>0.749050</td>\n",
       "    </tr>\n",
       "    <tr>\n",
       "      <th>2024-05-01</th>\n",
       "      <td>0.869836</td>\n",
       "      <td>0.563484</td>\n",
       "      <td>0.128021</td>\n",
       "      <td>0.570672</td>\n",
       "    </tr>\n",
       "    <tr>\n",
       "      <th>2024-05-02</th>\n",
       "      <td>NaN</td>\n",
       "      <td>0.301073</td>\n",
       "      <td>NaN</td>\n",
       "      <td>0.590736</td>\n",
       "    </tr>\n",
       "    <tr>\n",
       "      <th>2024-05-03</th>\n",
       "      <td>1.960167</td>\n",
       "      <td>NaN</td>\n",
       "      <td>1.853066</td>\n",
       "      <td>NaN</td>\n",
       "    </tr>\n",
       "    <tr>\n",
       "      <th>...</th>\n",
       "      <td>...</td>\n",
       "      <td>...</td>\n",
       "      <td>...</td>\n",
       "      <td>...</td>\n",
       "    </tr>\n",
       "    <tr>\n",
       "      <th>2027-01-19</th>\n",
       "      <td>NaN</td>\n",
       "      <td>NaN</td>\n",
       "      <td>NaN</td>\n",
       "      <td>NaN</td>\n",
       "    </tr>\n",
       "    <tr>\n",
       "      <th>2027-01-20</th>\n",
       "      <td>1.337764</td>\n",
       "      <td>1.295224</td>\n",
       "      <td>0.487354</td>\n",
       "      <td>1.129909</td>\n",
       "    </tr>\n",
       "    <tr>\n",
       "      <th>2027-01-21</th>\n",
       "      <td>2.527033</td>\n",
       "      <td>NaN</td>\n",
       "      <td>0.066117</td>\n",
       "      <td>NaN</td>\n",
       "    </tr>\n",
       "    <tr>\n",
       "      <th>2027-01-22</th>\n",
       "      <td>NaN</td>\n",
       "      <td>NaN</td>\n",
       "      <td>NaN</td>\n",
       "      <td>1.116213</td>\n",
       "    </tr>\n",
       "    <tr>\n",
       "      <th>2027-01-23</th>\n",
       "      <td>1.018223</td>\n",
       "      <td>NaN</td>\n",
       "      <td>NaN</td>\n",
       "      <td>0.804379</td>\n",
       "    </tr>\n",
       "  </tbody>\n",
       "</table>\n",
       "<p>1000 rows × 4 columns</p>\n",
       "</div>"
      ],
      "text/plain": [
       "                   A         B         C         D\n",
       "2024-04-29  0.984348  0.498364       NaN  1.275283\n",
       "2024-04-30  0.431154  0.464353  0.269679  0.749050\n",
       "2024-05-01  0.869836  0.563484  0.128021  0.570672\n",
       "2024-05-02       NaN  0.301073       NaN  0.590736\n",
       "2024-05-03  1.960167       NaN  1.853066       NaN\n",
       "...              ...       ...       ...       ...\n",
       "2027-01-19       NaN       NaN       NaN       NaN\n",
       "2027-01-20  1.337764  1.295224  0.487354  1.129909\n",
       "2027-01-21  2.527033       NaN  0.066117       NaN\n",
       "2027-01-22       NaN       NaN       NaN  1.116213\n",
       "2027-01-23  1.018223       NaN       NaN  0.804379\n",
       "\n",
       "[1000 rows x 4 columns]"
      ]
     },
     "execution_count": 40,
     "metadata": {},
     "output_type": "execute_result"
    }
   ],
   "source": [
    "# Indexação Booleana\n",
    "df[df>0]"
   ]
  },
  {
   "cell_type": "code",
   "execution_count": 41,
   "metadata": {},
   "outputs": [
    {
     "data": {
      "text/html": [
       "<div>\n",
       "<style scoped>\n",
       "    .dataframe tbody tr th:only-of-type {\n",
       "        vertical-align: middle;\n",
       "    }\n",
       "\n",
       "    .dataframe tbody tr th {\n",
       "        vertical-align: top;\n",
       "    }\n",
       "\n",
       "    .dataframe thead th {\n",
       "        text-align: right;\n",
       "    }\n",
       "</style>\n",
       "<table border=\"1\" class=\"dataframe\">\n",
       "  <thead>\n",
       "    <tr style=\"text-align: right;\">\n",
       "      <th></th>\n",
       "      <th>A</th>\n",
       "      <th>B</th>\n",
       "      <th>C</th>\n",
       "      <th>D</th>\n",
       "    </tr>\n",
       "  </thead>\n",
       "  <tbody>\n",
       "    <tr>\n",
       "      <th>2024-04-29</th>\n",
       "      <td>-0.339818</td>\n",
       "      <td>-0.902097</td>\n",
       "      <td>-0.343926</td>\n",
       "      <td>-0.356375</td>\n",
       "    </tr>\n",
       "    <tr>\n",
       "      <th>2024-04-30</th>\n",
       "      <td>-0.462658</td>\n",
       "      <td>-1.627417</td>\n",
       "      <td>-2.580178</td>\n",
       "      <td>-2.640334</td>\n",
       "    </tr>\n",
       "    <tr>\n",
       "      <th>2024-05-01</th>\n",
       "      <td>-0.627985</td>\n",
       "      <td>-0.401030</td>\n",
       "      <td>-1.278778</td>\n",
       "      <td>-0.698187</td>\n",
       "    </tr>\n",
       "    <tr>\n",
       "      <th>2024-05-02</th>\n",
       "      <td>0.716742</td>\n",
       "      <td>-0.508616</td>\n",
       "      <td>0.434094</td>\n",
       "      <td>0.116926</td>\n",
       "    </tr>\n",
       "    <tr>\n",
       "      <th>2024-05-03</th>\n",
       "      <td>0.076103</td>\n",
       "      <td>0.880213</td>\n",
       "      <td>0.633681</td>\n",
       "      <td>1.231861</td>\n",
       "    </tr>\n",
       "    <tr>\n",
       "      <th>2024-05-04</th>\n",
       "      <td>-0.147413</td>\n",
       "      <td>-0.692407</td>\n",
       "      <td>0.990252</td>\n",
       "      <td>1.199061</td>\n",
       "    </tr>\n",
       "  </tbody>\n",
       "</table>\n",
       "</div>"
      ],
      "text/plain": [
       "                   A         B         C         D\n",
       "2024-04-29 -0.339818 -0.902097 -0.343926 -0.356375\n",
       "2024-04-30 -0.462658 -1.627417 -2.580178 -2.640334\n",
       "2024-05-01 -0.627985 -0.401030 -1.278778 -0.698187\n",
       "2024-05-02  0.716742 -0.508616  0.434094  0.116926\n",
       "2024-05-03  0.076103  0.880213  0.633681  1.231861\n",
       "2024-05-04 -0.147413 -0.692407  0.990252  1.199061"
      ]
     },
     "execution_count": 41,
     "metadata": {},
     "output_type": "execute_result"
    }
   ],
   "source": [
    "datas = pd.date_range(start='2024-04-29', periods=6)\n",
    "\n",
    "df = pd.DataFrame(np.random.randn(6,4), index=datas, \n",
    "                  columns=['A','B','C','D'])\n",
    "df"
   ]
  },
  {
   "cell_type": "code",
   "execution_count": 42,
   "metadata": {},
   "outputs": [
    {
     "data": {
      "text/html": [
       "<div>\n",
       "<style scoped>\n",
       "    .dataframe tbody tr th:only-of-type {\n",
       "        vertical-align: middle;\n",
       "    }\n",
       "\n",
       "    .dataframe tbody tr th {\n",
       "        vertical-align: top;\n",
       "    }\n",
       "\n",
       "    .dataframe thead th {\n",
       "        text-align: right;\n",
       "    }\n",
       "</style>\n",
       "<table border=\"1\" class=\"dataframe\">\n",
       "  <thead>\n",
       "    <tr style=\"text-align: right;\">\n",
       "      <th></th>\n",
       "      <th>A</th>\n",
       "      <th>B</th>\n",
       "      <th>C</th>\n",
       "      <th>D</th>\n",
       "      <th>E</th>\n",
       "    </tr>\n",
       "  </thead>\n",
       "  <tbody>\n",
       "    <tr>\n",
       "      <th>2024-04-29</th>\n",
       "      <td>-0.339818</td>\n",
       "      <td>-0.902097</td>\n",
       "      <td>-0.343926</td>\n",
       "      <td>-0.356375</td>\n",
       "      <td>um</td>\n",
       "    </tr>\n",
       "    <tr>\n",
       "      <th>2024-04-30</th>\n",
       "      <td>-0.462658</td>\n",
       "      <td>-1.627417</td>\n",
       "      <td>-2.580178</td>\n",
       "      <td>-2.640334</td>\n",
       "      <td>um</td>\n",
       "    </tr>\n",
       "    <tr>\n",
       "      <th>2024-05-01</th>\n",
       "      <td>-0.627985</td>\n",
       "      <td>-0.401030</td>\n",
       "      <td>-1.278778</td>\n",
       "      <td>-0.698187</td>\n",
       "      <td>dois</td>\n",
       "    </tr>\n",
       "    <tr>\n",
       "      <th>2024-05-02</th>\n",
       "      <td>0.716742</td>\n",
       "      <td>-0.508616</td>\n",
       "      <td>0.434094</td>\n",
       "      <td>0.116926</td>\n",
       "      <td>três</td>\n",
       "    </tr>\n",
       "    <tr>\n",
       "      <th>2024-05-03</th>\n",
       "      <td>0.076103</td>\n",
       "      <td>0.880213</td>\n",
       "      <td>0.633681</td>\n",
       "      <td>1.231861</td>\n",
       "      <td>quatro</td>\n",
       "    </tr>\n",
       "    <tr>\n",
       "      <th>2024-05-04</th>\n",
       "      <td>-0.147413</td>\n",
       "      <td>-0.692407</td>\n",
       "      <td>0.990252</td>\n",
       "      <td>1.199061</td>\n",
       "      <td>três</td>\n",
       "    </tr>\n",
       "  </tbody>\n",
       "</table>\n",
       "</div>"
      ],
      "text/plain": [
       "                   A         B         C         D       E\n",
       "2024-04-29 -0.339818 -0.902097 -0.343926 -0.356375      um\n",
       "2024-04-30 -0.462658 -1.627417 -2.580178 -2.640334      um\n",
       "2024-05-01 -0.627985 -0.401030 -1.278778 -0.698187    dois\n",
       "2024-05-02  0.716742 -0.508616  0.434094  0.116926    três\n",
       "2024-05-03  0.076103  0.880213  0.633681  1.231861  quatro\n",
       "2024-05-04 -0.147413 -0.692407  0.990252  1.199061    três"
      ]
     },
     "execution_count": 42,
     "metadata": {},
     "output_type": "execute_result"
    }
   ],
   "source": [
    "df2 = df.copy() # cuidado ao fazer df2 = df!\n",
    "\n",
    "df2['E'] = ['um', 'um', 'dois', 'três', 'quatro', 'três']\n",
    "df2"
   ]
  },
  {
   "cell_type": "code",
   "execution_count": 43,
   "metadata": {},
   "outputs": [],
   "source": [
    "lista = ['banana', 'maça', 'uva', 'pitaia', 'framboesa', \n",
    "         'morango', 'limão', 'kiwi', 'grapefruit', 'laranja', 'abacaxi']"
   ]
  },
  {
   "cell_type": "code",
   "execution_count": 44,
   "metadata": {},
   "outputs": [
    {
     "data": {
      "text/plain": [
       "True"
      ]
     },
     "execution_count": 44,
     "metadata": {},
     "output_type": "execute_result"
    }
   ],
   "source": [
    "'banana' in lista"
   ]
  },
  {
   "cell_type": "code",
   "execution_count": 45,
   "metadata": {},
   "outputs": [
    {
     "data": {
      "text/plain": [
       "False"
      ]
     },
     "execution_count": 45,
     "metadata": {},
     "output_type": "execute_result"
    }
   ],
   "source": [
    "'açai' in lista"
   ]
  },
  {
   "cell_type": "code",
   "execution_count": 46,
   "metadata": {},
   "outputs": [
    {
     "data": {
      "text/html": [
       "<div>\n",
       "<style scoped>\n",
       "    .dataframe tbody tr th:only-of-type {\n",
       "        vertical-align: middle;\n",
       "    }\n",
       "\n",
       "    .dataframe tbody tr th {\n",
       "        vertical-align: top;\n",
       "    }\n",
       "\n",
       "    .dataframe thead th {\n",
       "        text-align: right;\n",
       "    }\n",
       "</style>\n",
       "<table border=\"1\" class=\"dataframe\">\n",
       "  <thead>\n",
       "    <tr style=\"text-align: right;\">\n",
       "      <th></th>\n",
       "      <th>A</th>\n",
       "      <th>B</th>\n",
       "      <th>C</th>\n",
       "      <th>D</th>\n",
       "      <th>E</th>\n",
       "    </tr>\n",
       "  </thead>\n",
       "  <tbody>\n",
       "    <tr>\n",
       "      <th>2024-05-01</th>\n",
       "      <td>-0.627985</td>\n",
       "      <td>-0.401030</td>\n",
       "      <td>-1.278778</td>\n",
       "      <td>-0.698187</td>\n",
       "      <td>dois</td>\n",
       "    </tr>\n",
       "    <tr>\n",
       "      <th>2024-05-03</th>\n",
       "      <td>0.076103</td>\n",
       "      <td>0.880213</td>\n",
       "      <td>0.633681</td>\n",
       "      <td>1.231861</td>\n",
       "      <td>quatro</td>\n",
       "    </tr>\n",
       "  </tbody>\n",
       "</table>\n",
       "</div>"
      ],
      "text/plain": [
       "                   A         B         C         D       E\n",
       "2024-05-01 -0.627985 -0.401030 -1.278778 -0.698187    dois\n",
       "2024-05-03  0.076103  0.880213  0.633681  1.231861  quatro"
      ]
     },
     "execution_count": 46,
     "metadata": {},
     "output_type": "execute_result"
    }
   ],
   "source": [
    "# Filtrando o meu dataset\n",
    "df2[ df2['E'].isin(['dois','quatro']) ]"
   ]
  },
  {
   "cell_type": "code",
   "execution_count": 47,
   "metadata": {},
   "outputs": [],
   "source": [
    "aux = df2.groupby('E').mean()\n",
    "aux.to_excel('tabela.xlsx')"
   ]
  },
  {
   "cell_type": "markdown",
   "metadata": {},
   "source": [
    "### Aplicando funções no meu dataframe"
   ]
  },
  {
   "cell_type": "code",
   "execution_count": 48,
   "metadata": {},
   "outputs": [
    {
     "data": {
      "text/html": [
       "<div>\n",
       "<style scoped>\n",
       "    .dataframe tbody tr th:only-of-type {\n",
       "        vertical-align: middle;\n",
       "    }\n",
       "\n",
       "    .dataframe tbody tr th {\n",
       "        vertical-align: top;\n",
       "    }\n",
       "\n",
       "    .dataframe thead th {\n",
       "        text-align: right;\n",
       "    }\n",
       "</style>\n",
       "<table border=\"1\" class=\"dataframe\">\n",
       "  <thead>\n",
       "    <tr style=\"text-align: right;\">\n",
       "      <th></th>\n",
       "      <th>A</th>\n",
       "      <th>B</th>\n",
       "      <th>C</th>\n",
       "      <th>D</th>\n",
       "    </tr>\n",
       "  </thead>\n",
       "  <tbody>\n",
       "    <tr>\n",
       "      <th>2024-04-29</th>\n",
       "      <td>-0.339818</td>\n",
       "      <td>-0.902097</td>\n",
       "      <td>-0.343926</td>\n",
       "      <td>-0.356375</td>\n",
       "    </tr>\n",
       "    <tr>\n",
       "      <th>2024-04-30</th>\n",
       "      <td>-0.462658</td>\n",
       "      <td>-1.627417</td>\n",
       "      <td>-2.580178</td>\n",
       "      <td>-2.640334</td>\n",
       "    </tr>\n",
       "    <tr>\n",
       "      <th>2024-05-01</th>\n",
       "      <td>-0.627985</td>\n",
       "      <td>-0.401030</td>\n",
       "      <td>-1.278778</td>\n",
       "      <td>-0.698187</td>\n",
       "    </tr>\n",
       "    <tr>\n",
       "      <th>2024-05-02</th>\n",
       "      <td>0.716742</td>\n",
       "      <td>-0.508616</td>\n",
       "      <td>0.434094</td>\n",
       "      <td>0.116926</td>\n",
       "    </tr>\n",
       "    <tr>\n",
       "      <th>2024-05-03</th>\n",
       "      <td>0.076103</td>\n",
       "      <td>0.880213</td>\n",
       "      <td>0.633681</td>\n",
       "      <td>1.231861</td>\n",
       "    </tr>\n",
       "    <tr>\n",
       "      <th>2024-05-04</th>\n",
       "      <td>-0.147413</td>\n",
       "      <td>-0.692407</td>\n",
       "      <td>0.990252</td>\n",
       "      <td>1.199061</td>\n",
       "    </tr>\n",
       "  </tbody>\n",
       "</table>\n",
       "</div>"
      ],
      "text/plain": [
       "                   A         B         C         D\n",
       "2024-04-29 -0.339818 -0.902097 -0.343926 -0.356375\n",
       "2024-04-30 -0.462658 -1.627417 -2.580178 -2.640334\n",
       "2024-05-01 -0.627985 -0.401030 -1.278778 -0.698187\n",
       "2024-05-02  0.716742 -0.508616  0.434094  0.116926\n",
       "2024-05-03  0.076103  0.880213  0.633681  1.231861\n",
       "2024-05-04 -0.147413 -0.692407  0.990252  1.199061"
      ]
     },
     "execution_count": 48,
     "metadata": {},
     "output_type": "execute_result"
    }
   ],
   "source": [
    "df"
   ]
  },
  {
   "cell_type": "code",
   "execution_count": 49,
   "metadata": {},
   "outputs": [
    {
     "data": {
      "text/plain": [
       "A   -0.130838\n",
       "B   -0.541892\n",
       "C   -0.357476\n",
       "D   -0.191174\n",
       "dtype: float64"
      ]
     },
     "execution_count": 49,
     "metadata": {},
     "output_type": "execute_result"
    }
   ],
   "source": [
    "# Ao longo do eixo 0 (linhas), média das colunas\n",
    "df.mean()"
   ]
  },
  {
   "cell_type": "code",
   "execution_count": 50,
   "metadata": {},
   "outputs": [
    {
     "data": {
      "text/plain": [
       "2024-04-29   -0.485554\n",
       "2024-04-30   -1.827647\n",
       "2024-05-01   -0.751495\n",
       "2024-05-02    0.189786\n",
       "2024-05-03    0.705465\n",
       "2024-05-04    0.337373\n",
       "Freq: D, dtype: float64"
      ]
     },
     "execution_count": 50,
     "metadata": {},
     "output_type": "execute_result"
    }
   ],
   "source": [
    "# Ao longo do eixo 1 (colunas), média das linhas\n",
    "df.mean(1)"
   ]
  },
  {
   "cell_type": "code",
   "execution_count": 51,
   "metadata": {},
   "outputs": [
    {
     "data": {
      "text/html": [
       "<div>\n",
       "<style scoped>\n",
       "    .dataframe tbody tr th:only-of-type {\n",
       "        vertical-align: middle;\n",
       "    }\n",
       "\n",
       "    .dataframe tbody tr th {\n",
       "        vertical-align: top;\n",
       "    }\n",
       "\n",
       "    .dataframe thead th {\n",
       "        text-align: right;\n",
       "    }\n",
       "</style>\n",
       "<table border=\"1\" class=\"dataframe\">\n",
       "  <thead>\n",
       "    <tr style=\"text-align: right;\">\n",
       "      <th></th>\n",
       "      <th>A</th>\n",
       "      <th>B</th>\n",
       "      <th>C</th>\n",
       "      <th>D</th>\n",
       "    </tr>\n",
       "  </thead>\n",
       "  <tbody>\n",
       "    <tr>\n",
       "      <th>2024-04-29</th>\n",
       "      <td>-0.339818</td>\n",
       "      <td>-0.902097</td>\n",
       "      <td>-0.343926</td>\n",
       "      <td>-0.356375</td>\n",
       "    </tr>\n",
       "    <tr>\n",
       "      <th>2024-04-30</th>\n",
       "      <td>-0.802476</td>\n",
       "      <td>-2.529515</td>\n",
       "      <td>-2.924104</td>\n",
       "      <td>-2.996708</td>\n",
       "    </tr>\n",
       "    <tr>\n",
       "      <th>2024-05-01</th>\n",
       "      <td>-1.430461</td>\n",
       "      <td>-2.930545</td>\n",
       "      <td>-4.202882</td>\n",
       "      <td>-3.694895</td>\n",
       "    </tr>\n",
       "    <tr>\n",
       "      <th>2024-05-02</th>\n",
       "      <td>-0.713719</td>\n",
       "      <td>-3.439161</td>\n",
       "      <td>-3.768788</td>\n",
       "      <td>-3.577969</td>\n",
       "    </tr>\n",
       "    <tr>\n",
       "      <th>2024-05-03</th>\n",
       "      <td>-0.637616</td>\n",
       "      <td>-2.558948</td>\n",
       "      <td>-3.135107</td>\n",
       "      <td>-2.346108</td>\n",
       "    </tr>\n",
       "    <tr>\n",
       "      <th>2024-05-04</th>\n",
       "      <td>-0.785028</td>\n",
       "      <td>-3.251355</td>\n",
       "      <td>-2.144855</td>\n",
       "      <td>-1.147047</td>\n",
       "    </tr>\n",
       "  </tbody>\n",
       "</table>\n",
       "</div>"
      ],
      "text/plain": [
       "                   A         B         C         D\n",
       "2024-04-29 -0.339818 -0.902097 -0.343926 -0.356375\n",
       "2024-04-30 -0.802476 -2.529515 -2.924104 -2.996708\n",
       "2024-05-01 -1.430461 -2.930545 -4.202882 -3.694895\n",
       "2024-05-02 -0.713719 -3.439161 -3.768788 -3.577969\n",
       "2024-05-03 -0.637616 -2.558948 -3.135107 -2.346108\n",
       "2024-05-04 -0.785028 -3.251355 -2.144855 -1.147047"
      ]
     },
     "execution_count": 51,
     "metadata": {},
     "output_type": "execute_result"
    }
   ],
   "source": [
    "df.apply( np.cumsum )"
   ]
  },
  {
   "cell_type": "code",
   "execution_count": 52,
   "metadata": {},
   "outputs": [],
   "source": [
    "def fun(x):\n",
    "    return x**2"
   ]
  },
  {
   "cell_type": "code",
   "execution_count": 53,
   "metadata": {},
   "outputs": [
    {
     "data": {
      "text/html": [
       "<div>\n",
       "<style scoped>\n",
       "    .dataframe tbody tr th:only-of-type {\n",
       "        vertical-align: middle;\n",
       "    }\n",
       "\n",
       "    .dataframe tbody tr th {\n",
       "        vertical-align: top;\n",
       "    }\n",
       "\n",
       "    .dataframe thead th {\n",
       "        text-align: right;\n",
       "    }\n",
       "</style>\n",
       "<table border=\"1\" class=\"dataframe\">\n",
       "  <thead>\n",
       "    <tr style=\"text-align: right;\">\n",
       "      <th></th>\n",
       "      <th>A</th>\n",
       "      <th>B</th>\n",
       "      <th>C</th>\n",
       "      <th>D</th>\n",
       "    </tr>\n",
       "  </thead>\n",
       "  <tbody>\n",
       "    <tr>\n",
       "      <th>2024-04-29</th>\n",
       "      <td>0.115476</td>\n",
       "      <td>0.813780</td>\n",
       "      <td>0.118285</td>\n",
       "      <td>0.127003</td>\n",
       "    </tr>\n",
       "    <tr>\n",
       "      <th>2024-04-30</th>\n",
       "      <td>0.214053</td>\n",
       "      <td>2.648487</td>\n",
       "      <td>6.657319</td>\n",
       "      <td>6.971362</td>\n",
       "    </tr>\n",
       "    <tr>\n",
       "      <th>2024-05-01</th>\n",
       "      <td>0.394365</td>\n",
       "      <td>0.160825</td>\n",
       "      <td>1.635273</td>\n",
       "      <td>0.487464</td>\n",
       "    </tr>\n",
       "    <tr>\n",
       "      <th>2024-05-02</th>\n",
       "      <td>0.513719</td>\n",
       "      <td>0.258691</td>\n",
       "      <td>0.188437</td>\n",
       "      <td>0.013672</td>\n",
       "    </tr>\n",
       "    <tr>\n",
       "      <th>2024-05-03</th>\n",
       "      <td>0.005792</td>\n",
       "      <td>0.774775</td>\n",
       "      <td>0.401552</td>\n",
       "      <td>1.517482</td>\n",
       "    </tr>\n",
       "    <tr>\n",
       "      <th>2024-05-04</th>\n",
       "      <td>0.021730</td>\n",
       "      <td>0.479427</td>\n",
       "      <td>0.980598</td>\n",
       "      <td>1.437747</td>\n",
       "    </tr>\n",
       "  </tbody>\n",
       "</table>\n",
       "</div>"
      ],
      "text/plain": [
       "                   A         B         C         D\n",
       "2024-04-29  0.115476  0.813780  0.118285  0.127003\n",
       "2024-04-30  0.214053  2.648487  6.657319  6.971362\n",
       "2024-05-01  0.394365  0.160825  1.635273  0.487464\n",
       "2024-05-02  0.513719  0.258691  0.188437  0.013672\n",
       "2024-05-03  0.005792  0.774775  0.401552  1.517482\n",
       "2024-05-04  0.021730  0.479427  0.980598  1.437747"
      ]
     },
     "execution_count": 53,
     "metadata": {},
     "output_type": "execute_result"
    }
   ],
   "source": [
    "df.apply( fun )"
   ]
  },
  {
   "cell_type": "code",
   "execution_count": 54,
   "metadata": {},
   "outputs": [],
   "source": [
    "def maiusculas(x):\n",
    "    return x.upper()"
   ]
  },
  {
   "cell_type": "code",
   "execution_count": 55,
   "metadata": {},
   "outputs": [],
   "source": [
    "df2['E'] = df2['E'].apply(maiusculas) # persistir a mudança"
   ]
  },
  {
   "cell_type": "code",
   "execution_count": 56,
   "metadata": {},
   "outputs": [
    {
     "data": {
      "text/html": [
       "<div>\n",
       "<style scoped>\n",
       "    .dataframe tbody tr th:only-of-type {\n",
       "        vertical-align: middle;\n",
       "    }\n",
       "\n",
       "    .dataframe tbody tr th {\n",
       "        vertical-align: top;\n",
       "    }\n",
       "\n",
       "    .dataframe thead th {\n",
       "        text-align: right;\n",
       "    }\n",
       "</style>\n",
       "<table border=\"1\" class=\"dataframe\">\n",
       "  <thead>\n",
       "    <tr style=\"text-align: right;\">\n",
       "      <th></th>\n",
       "      <th>A</th>\n",
       "      <th>B</th>\n",
       "      <th>C</th>\n",
       "      <th>D</th>\n",
       "      <th>E</th>\n",
       "    </tr>\n",
       "  </thead>\n",
       "  <tbody>\n",
       "    <tr>\n",
       "      <th>2024-04-29</th>\n",
       "      <td>-0.339818</td>\n",
       "      <td>-0.902097</td>\n",
       "      <td>-0.343926</td>\n",
       "      <td>-0.356375</td>\n",
       "      <td>UM</td>\n",
       "    </tr>\n",
       "    <tr>\n",
       "      <th>2024-04-30</th>\n",
       "      <td>-0.462658</td>\n",
       "      <td>-1.627417</td>\n",
       "      <td>-2.580178</td>\n",
       "      <td>-2.640334</td>\n",
       "      <td>UM</td>\n",
       "    </tr>\n",
       "    <tr>\n",
       "      <th>2024-05-01</th>\n",
       "      <td>-0.627985</td>\n",
       "      <td>-0.401030</td>\n",
       "      <td>-1.278778</td>\n",
       "      <td>-0.698187</td>\n",
       "      <td>DOIS</td>\n",
       "    </tr>\n",
       "    <tr>\n",
       "      <th>2024-05-02</th>\n",
       "      <td>0.716742</td>\n",
       "      <td>-0.508616</td>\n",
       "      <td>0.434094</td>\n",
       "      <td>0.116926</td>\n",
       "      <td>TRÊS</td>\n",
       "    </tr>\n",
       "    <tr>\n",
       "      <th>2024-05-03</th>\n",
       "      <td>0.076103</td>\n",
       "      <td>0.880213</td>\n",
       "      <td>0.633681</td>\n",
       "      <td>1.231861</td>\n",
       "      <td>QUATRO</td>\n",
       "    </tr>\n",
       "    <tr>\n",
       "      <th>2024-05-04</th>\n",
       "      <td>-0.147413</td>\n",
       "      <td>-0.692407</td>\n",
       "      <td>0.990252</td>\n",
       "      <td>1.199061</td>\n",
       "      <td>TRÊS</td>\n",
       "    </tr>\n",
       "  </tbody>\n",
       "</table>\n",
       "</div>"
      ],
      "text/plain": [
       "                   A         B         C         D       E\n",
       "2024-04-29 -0.339818 -0.902097 -0.343926 -0.356375      UM\n",
       "2024-04-30 -0.462658 -1.627417 -2.580178 -2.640334      UM\n",
       "2024-05-01 -0.627985 -0.401030 -1.278778 -0.698187    DOIS\n",
       "2024-05-02  0.716742 -0.508616  0.434094  0.116926    TRÊS\n",
       "2024-05-03  0.076103  0.880213  0.633681  1.231861  QUATRO\n",
       "2024-05-04 -0.147413 -0.692407  0.990252  1.199061    TRÊS"
      ]
     },
     "execution_count": 56,
     "metadata": {},
     "output_type": "execute_result"
    }
   ],
   "source": [
    "df2"
   ]
  },
  {
   "cell_type": "code",
   "execution_count": 57,
   "metadata": {},
   "outputs": [
    {
     "data": {
      "text/html": [
       "<div>\n",
       "<style scoped>\n",
       "    .dataframe tbody tr th:only-of-type {\n",
       "        vertical-align: middle;\n",
       "    }\n",
       "\n",
       "    .dataframe tbody tr th {\n",
       "        vertical-align: top;\n",
       "    }\n",
       "\n",
       "    .dataframe thead th {\n",
       "        text-align: right;\n",
       "    }\n",
       "</style>\n",
       "<table border=\"1\" class=\"dataframe\">\n",
       "  <thead>\n",
       "    <tr style=\"text-align: right;\">\n",
       "      <th></th>\n",
       "      <th>A</th>\n",
       "      <th>B</th>\n",
       "      <th>C</th>\n",
       "      <th>D</th>\n",
       "    </tr>\n",
       "  </thead>\n",
       "  <tbody>\n",
       "    <tr>\n",
       "      <th>2024-04-29</th>\n",
       "      <td>0.115476</td>\n",
       "      <td>0.813780</td>\n",
       "      <td>0.118285</td>\n",
       "      <td>0.127003</td>\n",
       "    </tr>\n",
       "    <tr>\n",
       "      <th>2024-04-30</th>\n",
       "      <td>0.214053</td>\n",
       "      <td>2.648487</td>\n",
       "      <td>6.657319</td>\n",
       "      <td>6.971362</td>\n",
       "    </tr>\n",
       "    <tr>\n",
       "      <th>2024-05-01</th>\n",
       "      <td>0.394365</td>\n",
       "      <td>0.160825</td>\n",
       "      <td>1.635273</td>\n",
       "      <td>0.487464</td>\n",
       "    </tr>\n",
       "    <tr>\n",
       "      <th>2024-05-02</th>\n",
       "      <td>0.513719</td>\n",
       "      <td>0.258691</td>\n",
       "      <td>0.188437</td>\n",
       "      <td>0.013672</td>\n",
       "    </tr>\n",
       "    <tr>\n",
       "      <th>2024-05-03</th>\n",
       "      <td>0.005792</td>\n",
       "      <td>0.774775</td>\n",
       "      <td>0.401552</td>\n",
       "      <td>1.517482</td>\n",
       "    </tr>\n",
       "    <tr>\n",
       "      <th>2024-05-04</th>\n",
       "      <td>0.021730</td>\n",
       "      <td>0.479427</td>\n",
       "      <td>0.980598</td>\n",
       "      <td>1.437747</td>\n",
       "    </tr>\n",
       "  </tbody>\n",
       "</table>\n",
       "</div>"
      ],
      "text/plain": [
       "                   A         B         C         D\n",
       "2024-04-29  0.115476  0.813780  0.118285  0.127003\n",
       "2024-04-30  0.214053  2.648487  6.657319  6.971362\n",
       "2024-05-01  0.394365  0.160825  1.635273  0.487464\n",
       "2024-05-02  0.513719  0.258691  0.188437  0.013672\n",
       "2024-05-03  0.005792  0.774775  0.401552  1.517482\n",
       "2024-05-04  0.021730  0.479427  0.980598  1.437747"
      ]
     },
     "execution_count": 57,
     "metadata": {},
     "output_type": "execute_result"
    }
   ],
   "source": [
    "df.apply(lambda x: x**2)"
   ]
  },
  {
   "cell_type": "markdown",
   "metadata": {},
   "source": [
    "## Juntando tabelas"
   ]
  },
  {
   "cell_type": "code",
   "execution_count": 58,
   "metadata": {},
   "outputs": [],
   "source": [
    "left = pd.DataFrame({'key': ['foo', 'bar'], 'lval': [1,2]})\n",
    "right = pd.DataFrame({'key': ['foo', 'bar'], 'rval': [4,5]})"
   ]
  },
  {
   "cell_type": "code",
   "execution_count": 59,
   "metadata": {},
   "outputs": [
    {
     "data": {
      "text/html": [
       "<div>\n",
       "<style scoped>\n",
       "    .dataframe tbody tr th:only-of-type {\n",
       "        vertical-align: middle;\n",
       "    }\n",
       "\n",
       "    .dataframe tbody tr th {\n",
       "        vertical-align: top;\n",
       "    }\n",
       "\n",
       "    .dataframe thead th {\n",
       "        text-align: right;\n",
       "    }\n",
       "</style>\n",
       "<table border=\"1\" class=\"dataframe\">\n",
       "  <thead>\n",
       "    <tr style=\"text-align: right;\">\n",
       "      <th></th>\n",
       "      <th>key</th>\n",
       "      <th>lval</th>\n",
       "    </tr>\n",
       "  </thead>\n",
       "  <tbody>\n",
       "    <tr>\n",
       "      <th>0</th>\n",
       "      <td>foo</td>\n",
       "      <td>1</td>\n",
       "    </tr>\n",
       "    <tr>\n",
       "      <th>1</th>\n",
       "      <td>bar</td>\n",
       "      <td>2</td>\n",
       "    </tr>\n",
       "  </tbody>\n",
       "</table>\n",
       "</div>"
      ],
      "text/plain": [
       "   key  lval\n",
       "0  foo     1\n",
       "1  bar     2"
      ]
     },
     "execution_count": 59,
     "metadata": {},
     "output_type": "execute_result"
    }
   ],
   "source": [
    "left"
   ]
  },
  {
   "cell_type": "code",
   "execution_count": 60,
   "metadata": {},
   "outputs": [
    {
     "data": {
      "text/html": [
       "<div>\n",
       "<style scoped>\n",
       "    .dataframe tbody tr th:only-of-type {\n",
       "        vertical-align: middle;\n",
       "    }\n",
       "\n",
       "    .dataframe tbody tr th {\n",
       "        vertical-align: top;\n",
       "    }\n",
       "\n",
       "    .dataframe thead th {\n",
       "        text-align: right;\n",
       "    }\n",
       "</style>\n",
       "<table border=\"1\" class=\"dataframe\">\n",
       "  <thead>\n",
       "    <tr style=\"text-align: right;\">\n",
       "      <th></th>\n",
       "      <th>key</th>\n",
       "      <th>rval</th>\n",
       "    </tr>\n",
       "  </thead>\n",
       "  <tbody>\n",
       "    <tr>\n",
       "      <th>0</th>\n",
       "      <td>foo</td>\n",
       "      <td>4</td>\n",
       "    </tr>\n",
       "    <tr>\n",
       "      <th>1</th>\n",
       "      <td>bar</td>\n",
       "      <td>5</td>\n",
       "    </tr>\n",
       "  </tbody>\n",
       "</table>\n",
       "</div>"
      ],
      "text/plain": [
       "   key  rval\n",
       "0  foo     4\n",
       "1  bar     5"
      ]
     },
     "execution_count": 60,
     "metadata": {},
     "output_type": "execute_result"
    }
   ],
   "source": [
    "right"
   ]
  },
  {
   "cell_type": "code",
   "execution_count": 61,
   "metadata": {},
   "outputs": [
    {
     "data": {
      "text/html": [
       "<div>\n",
       "<style scoped>\n",
       "    .dataframe tbody tr th:only-of-type {\n",
       "        vertical-align: middle;\n",
       "    }\n",
       "\n",
       "    .dataframe tbody tr th {\n",
       "        vertical-align: top;\n",
       "    }\n",
       "\n",
       "    .dataframe thead th {\n",
       "        text-align: right;\n",
       "    }\n",
       "</style>\n",
       "<table border=\"1\" class=\"dataframe\">\n",
       "  <thead>\n",
       "    <tr style=\"text-align: right;\">\n",
       "      <th></th>\n",
       "      <th>key</th>\n",
       "      <th>lval</th>\n",
       "      <th>rval</th>\n",
       "    </tr>\n",
       "  </thead>\n",
       "  <tbody>\n",
       "    <tr>\n",
       "      <th>0</th>\n",
       "      <td>foo</td>\n",
       "      <td>1</td>\n",
       "      <td>4</td>\n",
       "    </tr>\n",
       "    <tr>\n",
       "      <th>1</th>\n",
       "      <td>bar</td>\n",
       "      <td>2</td>\n",
       "      <td>5</td>\n",
       "    </tr>\n",
       "  </tbody>\n",
       "</table>\n",
       "</div>"
      ],
      "text/plain": [
       "   key  lval  rval\n",
       "0  foo     1     4\n",
       "1  bar     2     5"
      ]
     },
     "execution_count": 61,
     "metadata": {},
     "output_type": "execute_result"
    }
   ],
   "source": [
    "pd.merge(left, right, on='key')"
   ]
  },
  {
   "cell_type": "code",
   "execution_count": 62,
   "metadata": {},
   "outputs": [
    {
     "data": {
      "text/html": [
       "<div>\n",
       "<style scoped>\n",
       "    .dataframe tbody tr th:only-of-type {\n",
       "        vertical-align: middle;\n",
       "    }\n",
       "\n",
       "    .dataframe tbody tr th {\n",
       "        vertical-align: top;\n",
       "    }\n",
       "\n",
       "    .dataframe thead th {\n",
       "        text-align: right;\n",
       "    }\n",
       "</style>\n",
       "<table border=\"1\" class=\"dataframe\">\n",
       "  <thead>\n",
       "    <tr style=\"text-align: right;\">\n",
       "      <th></th>\n",
       "      <th>A</th>\n",
       "      <th>B</th>\n",
       "      <th>C</th>\n",
       "      <th>D</th>\n",
       "    </tr>\n",
       "  </thead>\n",
       "  <tbody>\n",
       "    <tr>\n",
       "      <th>0</th>\n",
       "      <td>-0.787048</td>\n",
       "      <td>0.443791</td>\n",
       "      <td>0.495120</td>\n",
       "      <td>0.031800</td>\n",
       "    </tr>\n",
       "    <tr>\n",
       "      <th>1</th>\n",
       "      <td>0.591158</td>\n",
       "      <td>-0.079015</td>\n",
       "      <td>0.014896</td>\n",
       "      <td>0.267014</td>\n",
       "    </tr>\n",
       "    <tr>\n",
       "      <th>2</th>\n",
       "      <td>0.374661</td>\n",
       "      <td>1.477454</td>\n",
       "      <td>0.439405</td>\n",
       "      <td>-1.959949</td>\n",
       "    </tr>\n",
       "    <tr>\n",
       "      <th>3</th>\n",
       "      <td>0.101331</td>\n",
       "      <td>1.286962</td>\n",
       "      <td>-0.928678</td>\n",
       "      <td>0.875755</td>\n",
       "    </tr>\n",
       "    <tr>\n",
       "      <th>4</th>\n",
       "      <td>1.223794</td>\n",
       "      <td>1.081461</td>\n",
       "      <td>0.177748</td>\n",
       "      <td>-0.067285</td>\n",
       "    </tr>\n",
       "    <tr>\n",
       "      <th>5</th>\n",
       "      <td>-1.257029</td>\n",
       "      <td>0.960595</td>\n",
       "      <td>-1.785683</td>\n",
       "      <td>-0.417636</td>\n",
       "    </tr>\n",
       "    <tr>\n",
       "      <th>6</th>\n",
       "      <td>0.658672</td>\n",
       "      <td>0.183093</td>\n",
       "      <td>0.741115</td>\n",
       "      <td>1.358181</td>\n",
       "    </tr>\n",
       "    <tr>\n",
       "      <th>7</th>\n",
       "      <td>0.592329</td>\n",
       "      <td>-1.607468</td>\n",
       "      <td>-1.217562</td>\n",
       "      <td>1.176799</td>\n",
       "    </tr>\n",
       "  </tbody>\n",
       "</table>\n",
       "</div>"
      ],
      "text/plain": [
       "          A         B         C         D\n",
       "0 -0.787048  0.443791  0.495120  0.031800\n",
       "1  0.591158 -0.079015  0.014896  0.267014\n",
       "2  0.374661  1.477454  0.439405 -1.959949\n",
       "3  0.101331  1.286962 -0.928678  0.875755\n",
       "4  1.223794  1.081461  0.177748 -0.067285\n",
       "5 -1.257029  0.960595 -1.785683 -0.417636\n",
       "6  0.658672  0.183093  0.741115  1.358181\n",
       "7  0.592329 -1.607468 -1.217562  1.176799"
      ]
     },
     "execution_count": 62,
     "metadata": {},
     "output_type": "execute_result"
    }
   ],
   "source": [
    "# Usando o comando Append\n",
    "df = pd.DataFrame(np.random.randn(8,4), columns=['A','B','C','D'])\n",
    "df"
   ]
  },
  {
   "cell_type": "code",
   "execution_count": 63,
   "metadata": {},
   "outputs": [],
   "source": [
    "# Usando o comando Append\n"
   ]
  },
  {
   "cell_type": "markdown",
   "metadata": {},
   "source": [
    "### Agrupamento"
   ]
  },
  {
   "cell_type": "code",
   "execution_count": 64,
   "metadata": {},
   "outputs": [
    {
     "data": {
      "text/html": [
       "<div>\n",
       "<style scoped>\n",
       "    .dataframe tbody tr th:only-of-type {\n",
       "        vertical-align: middle;\n",
       "    }\n",
       "\n",
       "    .dataframe tbody tr th {\n",
       "        vertical-align: top;\n",
       "    }\n",
       "\n",
       "    .dataframe thead th {\n",
       "        text-align: right;\n",
       "    }\n",
       "</style>\n",
       "<table border=\"1\" class=\"dataframe\">\n",
       "  <thead>\n",
       "    <tr style=\"text-align: right;\">\n",
       "      <th></th>\n",
       "      <th>A</th>\n",
       "      <th>B</th>\n",
       "      <th>C</th>\n",
       "      <th>D</th>\n",
       "    </tr>\n",
       "  </thead>\n",
       "  <tbody>\n",
       "    <tr>\n",
       "      <th>0</th>\n",
       "      <td>foo</td>\n",
       "      <td>one</td>\n",
       "      <td>-0.695785</td>\n",
       "      <td>0.598563</td>\n",
       "    </tr>\n",
       "    <tr>\n",
       "      <th>1</th>\n",
       "      <td>bar</td>\n",
       "      <td>one</td>\n",
       "      <td>-0.888085</td>\n",
       "      <td>0.813098</td>\n",
       "    </tr>\n",
       "    <tr>\n",
       "      <th>2</th>\n",
       "      <td>foo</td>\n",
       "      <td>two</td>\n",
       "      <td>-0.749253</td>\n",
       "      <td>1.349214</td>\n",
       "    </tr>\n",
       "    <tr>\n",
       "      <th>3</th>\n",
       "      <td>bar</td>\n",
       "      <td>three</td>\n",
       "      <td>-0.109429</td>\n",
       "      <td>0.711066</td>\n",
       "    </tr>\n",
       "    <tr>\n",
       "      <th>4</th>\n",
       "      <td>foo</td>\n",
       "      <td>two</td>\n",
       "      <td>-0.791359</td>\n",
       "      <td>-1.931152</td>\n",
       "    </tr>\n",
       "    <tr>\n",
       "      <th>5</th>\n",
       "      <td>bar</td>\n",
       "      <td>two</td>\n",
       "      <td>-0.102403</td>\n",
       "      <td>2.077594</td>\n",
       "    </tr>\n",
       "    <tr>\n",
       "      <th>6</th>\n",
       "      <td>foo</td>\n",
       "      <td>one</td>\n",
       "      <td>0.537927</td>\n",
       "      <td>-1.149391</td>\n",
       "    </tr>\n",
       "    <tr>\n",
       "      <th>7</th>\n",
       "      <td>foo</td>\n",
       "      <td>three</td>\n",
       "      <td>-0.015076</td>\n",
       "      <td>0.992039</td>\n",
       "    </tr>\n",
       "  </tbody>\n",
       "</table>\n",
       "</div>"
      ],
      "text/plain": [
       "     A      B         C         D\n",
       "0  foo    one -0.695785  0.598563\n",
       "1  bar    one -0.888085  0.813098\n",
       "2  foo    two -0.749253  1.349214\n",
       "3  bar  three -0.109429  0.711066\n",
       "4  foo    two -0.791359 -1.931152\n",
       "5  bar    two -0.102403  2.077594\n",
       "6  foo    one  0.537927 -1.149391\n",
       "7  foo  three -0.015076  0.992039"
      ]
     },
     "execution_count": 64,
     "metadata": {},
     "output_type": "execute_result"
    }
   ],
   "source": [
    "df = pd.DataFrame({'A': ['foo', 'bar', 'foo', 'bar',\n",
    "                         'foo', 'bar', 'foo', 'foo'],\n",
    "                   'B': ['one', 'one', 'two', 'three',\n",
    "                         'two', 'two', 'one', 'three'],\n",
    "                   'C': np.random.randn(8),\n",
    "                   'D': np.random.randn(8)})\n",
    "df"
   ]
  },
  {
   "cell_type": "code",
   "execution_count": 65,
   "metadata": {},
   "outputs": [
    {
     "data": {
      "text/plain": [
       "array(['foo', 'bar'], dtype=object)"
      ]
     },
     "execution_count": 65,
     "metadata": {},
     "output_type": "execute_result"
    }
   ],
   "source": [
    "df['A'].unique()"
   ]
  },
  {
   "cell_type": "code",
   "execution_count": 66,
   "metadata": {},
   "outputs": [
    {
     "data": {
      "text/plain": [
       "{'bar', 'foo'}"
      ]
     },
     "execution_count": 66,
     "metadata": {},
     "output_type": "execute_result"
    }
   ],
   "source": [
    "set(df['A'])"
   ]
  },
  {
   "cell_type": "code",
   "execution_count": 67,
   "metadata": {},
   "outputs": [
    {
     "data": {
      "text/html": [
       "<div>\n",
       "<style scoped>\n",
       "    .dataframe tbody tr th:only-of-type {\n",
       "        vertical-align: middle;\n",
       "    }\n",
       "\n",
       "    .dataframe tbody tr th {\n",
       "        vertical-align: top;\n",
       "    }\n",
       "\n",
       "    .dataframe thead th {\n",
       "        text-align: right;\n",
       "    }\n",
       "</style>\n",
       "<table border=\"1\" class=\"dataframe\">\n",
       "  <thead>\n",
       "    <tr style=\"text-align: right;\">\n",
       "      <th></th>\n",
       "      <th>B</th>\n",
       "      <th>C</th>\n",
       "      <th>D</th>\n",
       "    </tr>\n",
       "    <tr>\n",
       "      <th>A</th>\n",
       "      <th></th>\n",
       "      <th></th>\n",
       "      <th></th>\n",
       "    </tr>\n",
       "  </thead>\n",
       "  <tbody>\n",
       "    <tr>\n",
       "      <th>bar</th>\n",
       "      <td>onethreetwo</td>\n",
       "      <td>-1.099918</td>\n",
       "      <td>3.601758</td>\n",
       "    </tr>\n",
       "    <tr>\n",
       "      <th>foo</th>\n",
       "      <td>onetwotwoonethree</td>\n",
       "      <td>-1.713545</td>\n",
       "      <td>-0.140726</td>\n",
       "    </tr>\n",
       "  </tbody>\n",
       "</table>\n",
       "</div>"
      ],
      "text/plain": [
       "                     B         C         D\n",
       "A                                         \n",
       "bar        onethreetwo -1.099918  3.601758\n",
       "foo  onetwotwoonethree -1.713545 -0.140726"
      ]
     },
     "execution_count": 67,
     "metadata": {},
     "output_type": "execute_result"
    }
   ],
   "source": [
    "df.groupby('A').sum()"
   ]
  },
  {
   "cell_type": "code",
   "execution_count": 68,
   "metadata": {},
   "outputs": [
    {
     "data": {
      "text/html": [
       "<div>\n",
       "<style scoped>\n",
       "    .dataframe tbody tr th:only-of-type {\n",
       "        vertical-align: middle;\n",
       "    }\n",
       "\n",
       "    .dataframe tbody tr th {\n",
       "        vertical-align: top;\n",
       "    }\n",
       "\n",
       "    .dataframe thead th {\n",
       "        text-align: right;\n",
       "    }\n",
       "</style>\n",
       "<table border=\"1\" class=\"dataframe\">\n",
       "  <thead>\n",
       "    <tr style=\"text-align: right;\">\n",
       "      <th></th>\n",
       "      <th></th>\n",
       "      <th>C</th>\n",
       "      <th>D</th>\n",
       "    </tr>\n",
       "    <tr>\n",
       "      <th>A</th>\n",
       "      <th>B</th>\n",
       "      <th></th>\n",
       "      <th></th>\n",
       "    </tr>\n",
       "  </thead>\n",
       "  <tbody>\n",
       "    <tr>\n",
       "      <th rowspan=\"3\" valign=\"top\">bar</th>\n",
       "      <th>one</th>\n",
       "      <td>-0.888085</td>\n",
       "      <td>0.813098</td>\n",
       "    </tr>\n",
       "    <tr>\n",
       "      <th>three</th>\n",
       "      <td>-0.109429</td>\n",
       "      <td>0.711066</td>\n",
       "    </tr>\n",
       "    <tr>\n",
       "      <th>two</th>\n",
       "      <td>-0.102403</td>\n",
       "      <td>2.077594</td>\n",
       "    </tr>\n",
       "    <tr>\n",
       "      <th rowspan=\"3\" valign=\"top\">foo</th>\n",
       "      <th>one</th>\n",
       "      <td>-0.157858</td>\n",
       "      <td>-0.550828</td>\n",
       "    </tr>\n",
       "    <tr>\n",
       "      <th>three</th>\n",
       "      <td>-0.015076</td>\n",
       "      <td>0.992039</td>\n",
       "    </tr>\n",
       "    <tr>\n",
       "      <th>two</th>\n",
       "      <td>-1.540611</td>\n",
       "      <td>-0.581938</td>\n",
       "    </tr>\n",
       "  </tbody>\n",
       "</table>\n",
       "</div>"
      ],
      "text/plain": [
       "                  C         D\n",
       "A   B                        \n",
       "bar one   -0.888085  0.813098\n",
       "    three -0.109429  0.711066\n",
       "    two   -0.102403  2.077594\n",
       "foo one   -0.157858 -0.550828\n",
       "    three -0.015076  0.992039\n",
       "    two   -1.540611 -0.581938"
      ]
     },
     "execution_count": 68,
     "metadata": {},
     "output_type": "execute_result"
    }
   ],
   "source": [
    "df.groupby(['A','B']).sum()"
   ]
  }
 ],
 "metadata": {
  "kernelspec": {
   "display_name": "myenv",
   "language": "python",
   "name": "python3"
  },
  "language_info": {
   "codemirror_mode": {
    "name": "ipython",
    "version": 3
   },
   "file_extension": ".py",
   "mimetype": "text/x-python",
   "name": "python",
   "nbconvert_exporter": "python",
   "pygments_lexer": "ipython3",
   "version": "3.12.6"
  }
 },
 "nbformat": 4,
 "nbformat_minor": 2
}
