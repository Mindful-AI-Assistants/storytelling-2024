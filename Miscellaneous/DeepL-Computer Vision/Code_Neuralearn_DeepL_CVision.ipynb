{
  "cells": [
    {
      "cell_type": "markdown",
      "metadata": {
        "id": "UanmRy2-EaBQ"
      },
      "source": [
        "<h1><center><b><font size='10'>[Code for Neuralearn Courses]</font></b></center></h1>\n",
        "\n",
        " Congratulations 🎉🎉🎉 for getting here.\n",
        " You are indeed determined to Master AI by implementing all the projects in this notebook!\n",
        " <br>\n",
        " Join more than <b>15000 learners</b> today by saving 💲<b>300</b> and access All our Premium Courses at <b>💲24.5</b> instead of <s>💲<b>99</b></s>  \n",
        "\n",
        "https://neuralearn.podia.com/?coupon=MASTERY_OF_AI\n",
        "\n",
        "<br>\n",
        " Contact us at: team@neuralearn.ai for any enquiries"
      ]
    },
    {
      "cell_type": "markdown",
      "metadata": {
        "id": "vkjoW_qlE21x"
      },
      "source": [
        "#Deep Learning for Computer Vision\n",
        "\n",
        "<b>You can now access all the code for the Course <font color =\"orange\">Deep Learning for Computer Vision</font>  [Go to Course](https://www.neuralearn.ai/course/computer_vision/)\n"
      ]
    },
    {
      "cell_type": "markdown",
      "metadata": {
        "id": "yJnF3sHFx_sd"
      },
      "source": [
        "<i>Linear Regression for Predicting the Price of Second Hand Cars:</i> <br>\n",
        "[Get Code on Github](https://github.com/Neuralearn/deep-learning-with-tensorflow-2/blob/main/deep%20learning%20for%20computer%20vision/1-Linear%20Regression%20for%20Predicting%20Price%20of%20second%20hand%20Cars%20by%20Neuralearn.ai-.ipynb)<br>\n",
        "[Run on Colab](https://colab.research.google.com/drive/1_06FCpGN90Gy01mwZMqcepXzJsKDLWs6) (Please Check your <b>mail inbox or spam</b> in <b>5 minutes</b> to access the code)"
      ]
    },
    {
      "cell_type": "markdown",
      "metadata": {
        "id": "QGZgHoSgXPYh"
      },
      "source": [
        "<i>Malaria Detection:</i><br>\n",
        "[Get Code on Github](https://github.com/Neuralearn/deep-learning-with-tensorflow-2/blob/main/deep%20learning%20for%20computer%20vision/2-Malaria%20Detection%20by%20Neuralearn.ai-.ipynb)<br>\n",
        "[Run on Colab](https://colab.research.google.com/drive/1tqRYQac8AwOkVWnKK8Vr0cJX7Rn7Z_tZ) (Please Check your <b>mail inbox or spam</b> in <b>5 minutes</b> to access the code)"
      ]
    },
    {
      "cell_type": "markdown",
      "metadata": {
        "id": "7cSbVCm9XQB6"
      },
      "source": [
        "\n",
        "<i>Malaria Detection [Pytorch Version]:</i><br>\n",
        "[Get Code on Github](https://github.com/Neuralearn/deep-learning-with-tensorflow-2/blob/main/deep%20learning%20for%20computer%20vision/3-Malaria%20Detection%20by%20Neuralearn.ai%20%5BPyTorch%20Version%5D-.ipynb)<br>\n",
        "[Run on Colab](https://colab.research.google.com/drive/1876kWPsUPSnuu9WxKLv7Uf1WprJqjRGU) (Please Check your <b>mail inbox or spam</b> in <b>5 minutes</b> to access the code)"
      ]
    },
    {
      "cell_type": "markdown",
      "metadata": {
        "id": "o748nhzfcc_f"
      },
      "source": [
        "<i>Human Emotions Detection:</i><br>\n",
        "[Get Code on Github](https://github.com/Neuralearn/deep-learning-with-tensorflow-2/blob/main/deep%20learning%20for%20computer%20vision/4-Human%20Emotions%20Detection%20by%20Neuralearn.ai-.ipynb)<br>\n",
        "[Run on Colab](https://colab.research.google.com/drive/1WKIdwZY5Muqx5xFIsc9jDQ2R_vVK7-AY) (Please Check your <b>mail inbox or spam</b> in <b>5 minutes</b> to access the code)"
      ]
    },
    {
      "cell_type": "markdown",
      "metadata": {
        "id": "JRkja1ktcfdY"
      },
      "source": [
        "<i>Object detection from scratch with YOLO:</i><br>\n",
        "[Get Code on Github](https://github.com/Neuralearn/deep-learning-with-tensorflow-2/blob/main/deep%20learning%20for%20computer%20vision/5-YOLO%20Object%20Detection%20from%20Scratch%20by%20Neuralearn.ai-.ipynb)<br>\n",
        "[Run on Colab](https://colab.research.google.com/drive/15fAyGUpK931O5hIRXCRz1LO6qUOqenlg) (Please Check your <b>mail inbox or spam</b> in <b>5 minutes</b> to access the code)"
      ]
    },
    {
      "cell_type": "markdown",
      "metadata": {
        "id": "XmA-o1G7cfmg"
      },
      "source": [
        "<i>Image segmentation with a UNET Mode:</i><br>\n",
        "[Get Code on Github](https://github.com/Neuralearn/deep-learning-with-tensorflow-2/blob/main/deep%20learning%20for%20computer%20vision/6-Image%20segmentation%20by%20Neuralearn.ai-.ipynb)<br>\n",
        "[Run on Colab](https://colab.research.google.com/drive/1oO4vaxRiAk2xbtqMHdwpPzavq7yLAX0v) (Please Check your <b>mail inbox or spam</b> in <b>5 minutes</b> to access the code)"
      ]
    },
    {
      "cell_type": "markdown",
      "metadata": {
        "id": "yh7HvoFYcfpI"
      },
      "source": [
        "<i>People Counting with CSRNET Model:</i><br>\n",
        "[Get Code on Github](https://github.com/Neuralearn/deep-learning-with-tensorflow-2/blob/main/deep%20learning%20for%20computer%20vision/7-People%20Counting%20by%20Neuralearn.ai-.ipynb)<br>\n",
        "[Run on Colab](https://colab.research.google.com/drive/1txaGPZCPgDhoX3tTwU0PHul20TMPdjfJ) (Please Check your <b>mail inbox or spam</b> in <b>5 minutes</b> to access the code)"
      ]
    },
    {
      "cell_type": "markdown",
      "metadata": {
        "id": "Rq6IEVaAXOMy"
      },
      "source": [
        "<i>Digits Generation with Variational Autoencoders:</i><br>\n",
        "[Get Code on Github](https://github.com/Neuralearn/deep-learning-with-tensorflow-2/blob/main/deep%20learning%20for%20computer%20vision/8-VAE%20by%20Neuralearn.ai-.ipynb)<br>\n",
        "[Run on Colab](https://colab.research.google.com/drive/16Ul8UW2yccQB5JVoCnGmt_xj3d633zxQ) (Please Check your <b>mail inbox or spam</b> in <b>5 minutes</b> to access the code)"
      ]
    },
    {
      "cell_type": "markdown",
      "metadata": {
        "id": "cN4Uy7idcmjY"
      },
      "source": [
        "<i>Face Generation with DCGANs:</i><br>\n",
        "[Get Code on Github](https://github.com/Neuralearn/deep-learning-with-tensorflow-2/blob/main/deep%20learning%20for%20computer%20vision/9-DCGAN%20By%20Neuralearn.ai-.ipynb)<br>\n",
        "[Run on Colab](https://colab.research.google.com/drive/1kPxkY-sQPMj8TPL3oj4nseuA40lKEiMM) (Please Check your <b>mail inbox or spam</b> in <b>5 minutes</b> to access the code)"
      ]
    },
    {
      "cell_type": "markdown",
      "metadata": {
        "id": "bdO0LxsAdsNG"
      },
      "source": [
        "#Deep Learning for Natural Language Processing\n",
        "\n",
        "<b>You can now access all the code for the Course <font color =\"orange\">Deep Learning for Natural Language Processing</font>  [Go to Course](https://www.neuralearn.ai/course/natural_language_processing/)\n"
      ]
    },
    {
      "cell_type": "markdown",
      "metadata": {
        "id": "jKDom9biQdSc"
      },
      "source": [
        "<i>Linear Regression for Predicting the Price of Second Hand Cars:</i> <br>\n",
        "[Get Code on Github](https://github.com/Neuralearn/deep-learning-with-tensorflow-2/blob/main/deep%20learning%20for%20natural%20language%20processing/1-Linear%20Regression%20for%20Predicting%20Price%20of%20second%20hand%20Cars%20by%20Neuralearn.ai-.ipynb)<br>\n",
        "[Run on Colab](https://colab.research.google.com/drive/1_06FCpGN90Gy01mwZMqcepXzJsKDLWs6) (Please Check your <b>mail inbox or spam</b> in <b>5 minutes</b> to access the code)"
      ]
    },
    {
      "cell_type": "markdown",
      "metadata": {
        "id": "IRZAtSwlQkuQ"
      },
      "source": [
        "<i>Sentiment Analysis with Recurrent Neural Networks:</i> <br>\n",
        "[Get Code on Github](https://github.com/Neuralearn/deep-learning-with-tensorflow-2/blob/main/deep%20learning%20for%20natural%20language%20processing/2-Sentiment%20Analysis%20with%20RNNs%20by%20Neuralearn.ai-.ipynb)<br>\n",
        "[Run on Colab](https://colab.research.google.com/drive/1heR_QTL_JEa2fCnzXumbbwMbduB7Saa_) (Please Check your <b>mail inbox or spam</b> in <b>5 minutes</b> to access the code)"
      ]
    },
    {
      "cell_type": "markdown",
      "metadata": {
        "id": "a4hFPKpOQkw0"
      },
      "source": [
        "<i>Sentiment Analysis with Transformers:</i> <br>\n",
        "[Get Code on Github](https://github.com/Neuralearn/deep-learning-with-tensorflow-2/blob/main/deep%20learning%20for%20natural%20language%20processing/3-Sentiment%20Analysis%20with%20Transformers%20by%20Neuralearn.ai-.ipynb)<br>\n",
        "[Run on Colab](https://colab.research.google.com/drive/18fwZzttOw5y6evn1EKLfF45wPTSJPBrv) (Please Check your <b>mail inbox or spam</b> in <b>5 minutes</b> to access the code)"
      ]
    },
    {
      "cell_type": "markdown",
      "metadata": {
        "id": "BnM1nvHiQky7"
      },
      "source": [
        "<i>Neural Machine Translation with Recurrent Neural Networks:</i> <br>\n",
        "[Get Code on Github](https://github.com/Neuralearn/deep-learning-with-tensorflow-2/blob/main/deep%20learning%20for%20natural%20language%20processing/4-Neural%20Machine%20Translation%20with%20RNNs%20by%20Neuralearn.ai-.ipynb)<br>\n",
        "[Run on Colab](https://colab.research.google.com/drive/1XWMrg8yb-y4rqKjp1wIZ8G1nl_C_-rwy) (Please Check your <b>mail inbox or spam</b> in <b>5 minutes</b> to access the code)"
      ]
    },
    {
      "cell_type": "markdown",
      "metadata": {
        "id": "DFyFXqu-Qt2b"
      },
      "source": [
        "<i>Neural Machine Translation with Bahdanau Attention:</i> <br>\n",
        "[Get Code on Github](https://github.com/Neuralearn/deep-learning-with-tensorflow-2/blob/main/deep%20learning%20for%20natural%20language%20processing/5-Neural%20Machine%20Translation%20with%20Bahdanau%20Attention%20by%20Neuralearn.ai-.ipynb)<br>\n",
        "[Run on Colab](https://colab.research.google.com/drive/1cgH2ujsmgDQ-UABJ1FQg-Yo9LXKW5yHB)"
      ]
    },
    {
      "cell_type": "markdown",
      "metadata": {
        "id": "zrvvh7nJQt-d"
      },
      "source": [
        "<i>Neural Machine Translation with Transformers:</i> <br>\n",
        "[Get Code on Github](https://github.com/Neuralearn/deep-learning-with-tensorflow-2/blob/main/deep%20learning%20for%20natural%20language%20processing/6-Neural%20Machine%20Translation%20with%20Transformers%20by%20Neuralearn.ai-.ipynb)<br>\n",
        "[Run on Colab](https://colab.research.google.com/drive/1FACGCwIcoCGPIfsAM0qBDAnm6ZsusWMM) (Please Check your <b>mail inbox or spam</b> in <b>5 minutes</b> to access the code)"
      ]
    },
    {
      "cell_type": "markdown",
      "metadata": {
        "id": "KQ2qJk07QuBD"
      },
      "source": [
        "<i>Sentiment Analysis with Bert using Huggingface Transformers:</i> <br>\n",
        "[Get Code on Github](https://github.com/Neuralearn/deep-learning-with-tensorflow-2)<br>\n",
        "[Run on Colab](https://colab.research.google.com/drive/1NSptGzjbgxXIhwIAbtiTCcXuGvG5YhPE) (Please Check your <b>mail inbox or spam</b> in <b>5 minutes</b> to access the code)"
      ]
    },
    {
      "cell_type": "markdown",
      "metadata": {
        "id": "JvmbtZrEQuDj"
      },
      "source": [
        "<i>Intent Classification with Deberta using Huggingface Transformers:</i> <br>\n",
        "[Get Code on Github](https://github.com/Neuralearn/deep-learning-with-tensorflow-2)<br>\n",
        "[Run on Colab](https://colab.research.google.com/drive/110v8mbJSsMzmKS1FIAliAacdGCKm5b9w) (Please Check your <b>mail inbox or spam</b> in <b>5 minutes</b> to access the code)"
      ]
    },
    {
      "cell_type": "markdown",
      "metadata": {
        "id": "OTekyP3EQuGL"
      },
      "source": [
        "<i>Named Entity Recognition with Roberta using Huggingface Transformers:</i> <br>\n",
        "[Get Code on Github](https://github.com/Neuralearn/deep-learning-with-tensorflow-2/blob/main/deep%20learning%20for%20natural%20language%20processing/7-Sentiment%20Analysis%20with%20BERT%20in%20HuggingFace%20%F0%9F%A4%97%20by%20Neuralearn.ai-.ipynb)<br>\n",
        "[Run on Colab](https://colab.research.google.com/drive/1xISX3HE2FtC0PS-kVWcJozXkD8qB8fCF)"
      ]
    },
    {
      "cell_type": "markdown",
      "metadata": {
        "id": "2sunvc7TQuI7"
      },
      "source": [
        "<i>Neural Machine Translation with T5 using Huggingface Transformers:</i> <br>\n",
        "[Get Code on Github](https://github.com/Neuralearn/deep-learning-with-tensorflow-2/blob/main/deep%20learning%20for%20natural%20language%20processing/10-Neural%20Machine%20Translation%20using%20HuggingFace%20%F0%9F%A4%97%20Transformers%20by%20Neuralearn.ai-.ipynb)<br>\n",
        "[Run on Colab](https://colab.research.google.com/drive/108-1eRiKsNcrpP7v-ThwS3rB2v0E6Yw5) (Please Check your <b>mail inbox or spam</b> in <b>5 minutes</b> to access the code)"
      ]
    },
    {
      "cell_type": "markdown",
      "metadata": {
        "id": "vLOZ_ZrvQuLT"
      },
      "source": [
        "<i>Extractive Question Answering with Longformer using Huggingface Transformers:</i> <br>\n",
        "[Get Code on Github](https://github.com/Neuralearn/deep-learning-with-tensorflow-2/blob/main/deep%20learning%20for%20natural%20language%20processing/11-Extractive%20Question%20Answering%20using%20HuggingFace%20%F0%9F%A4%97%20Transformers%20by%20Neuralearn.ai-.ipynb)<br>\n",
        "[Run on Colab](https://colab.research.google.com/drive/13v_mn9rTw1cvW-sjGqin8QpkItGrlshV) (Please Check your <b>mail inbox or spam</b> in <b>5 minutes</b> to access the code)"
      ]
    },
    {
      "cell_type": "markdown",
      "metadata": {
        "id": "Xc_dO3obQzrt"
      },
      "source": [
        "<i>Ecommerce Search Engine with Sentence Transformers using Huggingface Transformers:</i> <br>\n",
        "[Get Code on Github](https://github.com/Neuralearn/deep-learning-with-tensorflow-2/blob/main/deep%20learning%20for%20natural%20language%20processing/12-Search%20Engine%20for%20e-commerce%20using%20Sentence%20Transformers%20in%20HuggingFace%20%F0%9F%A4%97%20by%20Neuralearn.ai-.ipynb)<br>\n",
        "[Run on Colab](https://colab.research.google.com/drive/1VauOYf7BxjdT9ETTv5CaPTOl1i9xd-V2) (Please Check your <b>mail inbox or spam</b> in <b>5 minutes</b> to access the code)"
      ]
    },
    {
      "cell_type": "markdown",
      "metadata": {
        "id": "OJHcLH1KQzuD"
      },
      "source": [
        "<i>Drake Lyrics Generator with GPT2 using Huggingface Transformers:</i> <br>\n",
        "[Get Code on Github](https://github.com/Neuralearn/deep-learning-with-tensorflow-2/blob/main/deep%20learning%20for%20natural%20language%20processing/13-Lyrics%20Generator%20using%20GPT2%20in%20HuggingFace%20%F0%9F%A4%97%20by%20Neuralearn.ai-.ipynb)<br>\n",
        "[Run on Colab](https://colab.research.google.com/drive/1ZZ3MIwIib0crysLg7HYwiP73u7F675T4) (Please Check your <b>mail inbox or spam</b> in <b>5 minutes</b> to access the code)"
      ]
    },
    {
      "cell_type": "markdown",
      "metadata": {
        "id": "xZqUPEmIQzwU"
      },
      "source": [
        "<i>Grammatical Error Correction with T5 using Huggingface Transformers:</i> <br>\n",
        "[Get Code on Github](https://github.com/Neuralearn/deep-learning-with-tensorflow-2/blob/main/deep%20learning%20for%20natural%20language%20processing/14-Grammatical%20Error%20Correction%20using%20T5%20in%20HuggingFace%20%F0%9F%A4%97%20by%20Neuralearn.ai-.ipynb)<br>\n",
        "[Run on Colab](https://colab.research.google.com/drive/1Xd3_xXPjUK_UA12IN3AjM9u4EFnv8deU) (Please Check your <b>mail inbox or spam</b> in <b>5 minutes</b> to access the code)"
      ]
    },
    {
      "cell_type": "markdown",
      "metadata": {
        "id": "YdHi4HtpQzyj"
      },
      "source": [
        "<i>Chat With Elon Musk with Blenderbot using Huggingface Transformers:</i> <br>\n",
        "[Get Code on Github](https://github.com/Neuralearn/deep-learning-with-tensorflow-2/blob/main/deep%20learning%20for%20natural%20language%20processing/15-Chat%20With%20Elon%20Musk%20using%20BlenderBot%20in%20HuggingFace%20%F0%9F%A4%97%20Transformers%20by%20Neuralearn.ai-.ipynb)<br>\n",
        "[Run on Colab](https://colab.research.google.com/drive/16DmOKrKNUOWRMYF-YPQWdRPbn8CLfulJ) (Please Check your <b>mail inbox or spam</b> in <b>5 minutes</b> to access the code)"
      ]
    },
    {
      "cell_type": "markdown",
      "metadata": {
        "id": "eR1RFwFWNSH_"
      },
      "source": [
        "#Deep Learning for Image Generation with GANs and Diffusion Models\n",
        "\n",
        "<b>You can now access all the code for the Course <font color =\"orange\">Deep Learning for Image Generation with GANs and Diffusion Models</font>  [Go to Course](https://neuralearn.ai/course/image_generation)\n"
      ]
    },
    {
      "cell_type": "markdown",
      "metadata": {
        "id": "G5LkBNT5Ne7B"
      },
      "source": [
        "<i>Digits Generation with Variational Autoencoders:</i><br>\n",
        "[Get Code on Github](https://github.com/Neuralearn/deep-learning-with-tensorflow-2/blob/main/deep%20learning%20for%20image%20generation/1-VAE%20by%20Neuralearn.ai-.ipynb)<br>\n",
        "[Run on Colab](https://colab.research.google.com/drive/16Ul8UW2yccQB5JVoCnGmt_xj3d633zxQ)  (Please Check your <b>mail inbox or spam</b> in <b>5 minutes</b> to access the code)"
      ]
    },
    {
      "cell_type": "markdown",
      "metadata": {
        "id": "SULIWpeYNgXm"
      },
      "source": [
        "<i>Face Generation with DCGANs:</i><br>\n",
        "[Get Code on Github](https://github.com/Neuralearn/deep-learning-with-tensorflow-2/blob/main/deep%20learning%20for%20image%20generation/2-DCGAN%20By%20Neuralearn.ai-.ipynb)<br>\n",
        "[Run on Colab](https://colab.research.google.com/drive/1kPxkY-sQPMj8TPL3oj4nseuA40lKEiMM)"
      ]
    },
    {
      "cell_type": "markdown",
      "metadata": {
        "id": "ZJZP50WYNqCN"
      },
      "source": [
        "<i>Stable GAN Training with WGANs:</i><br>\n",
        "[Get Code on Github](https://github.com/Neuralearn/deep-learning-with-tensorflow-2/blob/main/deep%20learning%20for%20image%20generation/3-WGAN%20By%20Neuralearn.ai-.ipynb)<br>\n",
        "[Run on Colab](https://colab.research.google.com/drive/1V_pSSMlAErgPtBl3LmCdi4UbQUOj4DRC)  (Please Check your <b>mail inbox or spam</b> in <b>5 minutes</b> to access the code)"
      ]
    },
    {
      "cell_type": "markdown",
      "metadata": {
        "id": "7iSGn8E4NqEs"
      },
      "source": [
        "\n",
        "<i>High quality Face Generation with ProGANs:</i><br>\n",
        "[Get Code on Github](https://github.com/Neuralearn/deep-learning-with-tensorflow-2/blob/main/deep%20learning%20for%20image%20generation/4-ProGAN%20by%20Neuralearn.ai-.ipynb)<br>\n",
        "[Run on Colab](https://colab.research.google.com/drive/1mBL5d--doJ4ZKkM_kOzSn_n1-o0pr3rg)  (Please Check your <b>mail inbox or spam</b> in <b>5 minutes</b> to access the code)"
      ]
    },
    {
      "cell_type": "markdown",
      "metadata": {
        "id": "5WsLRrr7NqHH"
      },
      "source": [
        "<i>Image Super resolution with SRGANs:</i><br>\n",
        "[Get Code on Github](https://github.com/Neuralearn/deep-learning-with-tensorflow-2/blob/main/deep%20learning%20for%20image%20generation/5-SRGAN%20By%20Neuralearn.ai-.ipynb)<br>\n",
        "[Run on Colab](https://colab.research.google.com/drive/1tCxn4FaD6aUAdlfJjs32AoltUHxrfYm0)"
      ]
    },
    {
      "cell_type": "markdown",
      "metadata": {
        "id": "WYBNTso7NqJU"
      },
      "source": [
        "<i>Face Mask removal with Cyclegans:</i><br>\n",
        "[Get Code on Github](https://github.com/Neuralearn/deep-learning-with-tensorflow-2/blob/main/deep%20learning%20for%20image%20generation/6-CycleGAN%20By%20Neuralearn.ai-.ipynb)<br>\n",
        "[Run on Colab](https://colab.research.google.com/drive/1hirfdCJlf1y3XMI7zWio5rbUnmDL7LG3)  (Please Check your <b>mail inbox or spam</b> in <b>5 minutes</b> to access the code)"
      ]
    },
    {
      "cell_type": "markdown",
      "metadata": {
        "id": "rRs0LrcyN0eU"
      },
      "source": [
        "<i>Face Generation with Diffusion Models:</i><br>\n",
        "[Get Code on Github](https://github.com/Neuralearn/deep-learning-with-tensorflow-2/blob/main/deep%20learning%20for%20image%20generation/7-Diffusion%20Models%20Neuralearn.ai-.ipynb)<br>\n",
        "[Run on Colab](https://colab.research.google.com/drive/1FMiIc8u8gSdV7TdM62JIBaFqR73GaRXK?usp=share_link)"
      ]
    },
    {
      "cell_type": "markdown",
      "metadata": {
        "id": "SChn8ZguTnJC"
      },
      "source": [
        "#Deep Learning for Object Detection\n",
        "\n",
        "<b>You can now access all the code for the Course <font color =\"orange\">Deep Learning for Object Detection</font>  [Go to Course](https://www.neuralearn.ai/course/object_detection/)\n"
      ]
    },
    {
      "cell_type": "markdown",
      "metadata": {
        "id": "yPUpjV97TyOK"
      },
      "source": [
        "<i>Testing and Training YOLOX with Custom Data:</i><br>\n",
        "[Get Code on Github](https://github.com/Neuralearn/deep-learning-with-tensorflow-2/blob/main/deep%20learning%20for%20object%20detection/Deploying%20YoloX%20to%20Cloud%20by%20Neuralearn-.ipynb)<br>\n",
        "[Run on Colab](https://colab.research.google.com/drive/1wqwaDtDy86xAeSCzemh5CiEbkkRSPdxW)  (Please Check your <b>mail inbox or spam</b> in <b>5 minutes</b> to access the code)"
      ]
    },
    {
      "cell_type": "markdown",
      "metadata": {
        "id": "GwROJt5IUByD"
      },
      "source": [
        "#Deep Learning for Optical Character Recognition (OCR)\n",
        "\n",
        "<b>You can now access all the code for the Course <font color =\"orange\">Deep Learning for Optical Character Recognition (OCR)</font>  [Coming Soon...]"
      ]
    },
    {
      "cell_type": "markdown",
      "metadata": {
        "id": "7YSJ6zBdURnC"
      },
      "source": [
        "<i>Converting PDF tables to Excel Sheet:</i><br>\n",
        "[Get Code on Github](https://github.com/Neuralearn/deep-learning-with-tensorflow-2/blob/main/deep%20learning%20for%20optical%20character%20recognition/PDF%20TO%20EXCEL%20By%20Neuralearn-.ipynb)<br>\n",
        "[Run on Colab](https://colab.research.google.com/drive/1nb7veBv2L99z80U0c4gp0fezx-t6DdIp)  (Please Check your <b>mail inbox or spam</b> in <b>5 minutes</b> to access the code)"
      ]
    },
    {
      "cell_type": "markdown",
      "metadata": {
        "id": "7PbSuxB8Umer"
      },
      "source": [
        "#Beginner to Expert Linear Algebra\n",
        "\n",
        "<b>You can now access all the code for the Course <font color =\"orange\">Deep Learning for Beginner to Expert Linear Algebra</font>"
      ]
    },
    {
      "cell_type": "markdown",
      "metadata": {
        "id": "MrySYGXKU1Dx"
      },
      "source": [
        "<i>Converting PDF tables to Excel Sheet:</i><br>\n",
        "[Get Code on Github](https://github.com/Neuralearn/deep-learning-with-tensorflow-2/blob/main/deep%20learning%20for%20linear%20algebra/Complete%20Linear%20Algebra%20Course%20by%20Neuralearn.ai-.ipynb)<br>\n",
        "[Run on Colab](https://colab.research.google.com/drive/1ZMGbswclOVxGQX1E1o1kLW51wC0GkSXx)  (Please Check your <b>mail inbox or spam</b> in <b>5 minutes</b> to access the code)"
      ]
    },
    {
      "cell_type": "markdown",
      "metadata": {
        "id": "cLWmHi9jVD2p"
      },
      "source": [
        "# ."
      ]
    },
    {
      "cell_type": "markdown",
      "metadata": {
        "id": "-LMq1jspVD5Q"
      },
      "source": [
        "."
      ]
    },
    {
      "cell_type": "markdown",
      "metadata": {
        "id": "fIw_wmtnVD7Q"
      },
      "source": [
        "."
      ]
    },
    {
      "cell_type": "markdown",
      "metadata": {
        "id": "JsgNyISSVD-D"
      },
      "source": [
        "."
      ]
    },
    {
      "cell_type": "markdown",
      "metadata": {
        "id": "yUzOnWhuVEAQ"
      },
      "source": [
        "."
      ]
    },
    {
      "cell_type": "markdown",
      "metadata": {
        "id": "f3oBNTN9VEC5"
      },
      "source": [
        "."
      ]
    },
    {
      "cell_type": "markdown",
      "metadata": {
        "id": "Zwc_iouWVEHr"
      },
      "source": [
        "."
      ]
    },
    {
      "cell_type": "markdown",
      "metadata": {
        "id": "RnfVWT2-VEKC"
      },
      "source": [
        "."
      ]
    },
    {
      "cell_type": "markdown",
      "metadata": {
        "id": "tNpnd-qmU-RS"
      },
      "source": [
        "# ."
      ]
    },
    {
      "cell_type": "markdown",
      "metadata": {
        "id": "RB7WVYmMp8Nj"
      },
      "source": [
        "\n",
        "<center><img src=\"http://i.countdownmail.com/24h32u.gif\" border=\"0\" alt=\"countdownmail.com\"/></center>"
      ]
    }
  ],
  "metadata": {
    "colab": {
      "provenance": [],
      "toc_visible": true
    },
    "kernelspec": {
      "display_name": "Python 3",
      "name": "python3"
    },
    "language_info": {
      "name": "python",
      "version": "3.12.6"
    }
  },
  "nbformat": 4,
  "nbformat_minor": 0
}
